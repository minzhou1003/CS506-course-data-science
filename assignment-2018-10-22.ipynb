{
 "cells": [
  {
   "cell_type": "markdown",
   "metadata": {},
   "source": [
    "#  <span style=\"text-decoration:underline;\">Assignment 2</span>: Clustering Yelp Data"
   ]
  },
  {
   "cell_type": "markdown",
   "metadata": {},
   "source": [
    "## Introduction "
   ]
  },
  {
   "cell_type": "markdown",
   "metadata": {},
   "source": [
    "In this assignment, we will be working with the [Yelp data set](http://cs-people.bu.edu/bahargam/506/yelp_dataset_challenge_academic_dataset.tar). You can find information about the format of the data set [here](https://www.yelp.com/dataset_challenge)."
   ]
  },
  {
   "cell_type": "markdown",
   "metadata": {},
   "source": [
    "## Submission "
   ]
  },
  {
   "cell_type": "markdown",
   "metadata": {},
   "source": [
    "Please use the following invitation link to create your assignment repository for this assignment: [https://classroom.github.com/a/nowbCi7s](https://classroom.github.com/a/nowbCi7s). Include your BU username within your submission by adding it here: **<minzhou@bu.edu&gt;**.\n",
    "\n",
    "Do not delete the output of your code cells. This assignment must be completed **individually** by each student."
   ]
  },
  {
   "cell_type": "markdown",
   "metadata": {},
   "source": [
    "## <span style=\"text-decoration:underline;\">Problem 1</span>: Clustering, Scaling, and Visualizing"
   ]
  },
  {
   "cell_type": "markdown",
   "metadata": {},
   "source": [
    "**<span style=\"text-decoration:underline;\">Part A</span> (35 points):** From the Business Objects data set (`yelp_academic_dataset_business.json`), we want to find culinary districts in Las Vegas. These districts are characterized by the physical proximity and similarity of restaurants. We can use `longitude` and `latitude` to cluster for proximity, and `categories` to cluster for similarity. Only a subset (the top 15) of the most popular categories should be used.\n",
    "\n",
    "Note that the spatial coordinates and restaurant categories have different units of scale. Your results could be arbitrarily skewed if you don't incorporate some scaling.\n",
    "\n",
    "Find clusters using $k$-means++ (you are permitted to use the implementation available in scikit-learn). Explain your data representation and how you determined the number of clusters in $k$-means++."
   ]
  },
  {
   "cell_type": "markdown",
   "metadata": {},
   "source": [
    "**<span style=\"text-decoration:underline;\">Part B</span> (15 points):** Visualize the clusters by plotting the longitude/latitude of the restaurants in a scatter plot. Label each cluster with a category. In a markdown, explain how labels are assigned.\n",
    "\n",
    "Note that some categories are inherently more common (e.g., \"pizza\"). When labeling your clusters, you want to avoid the scenario where all clusters are labeled as \"pizza\" simply because of the uniformly large number of these restaurants across all clusters. In other words, we don’t want to point out that pizza restaurants are pretty much evenly distributed in high quantities everywhere, but rather discover when they, or another type of restaurant, appear in notably high quantities."
   ]
  },
  {
   "cell_type": "markdown",
   "metadata": {},
   "source": [
    "## Solution:"
   ]
  },
  {
   "cell_type": "markdown",
   "metadata": {},
   "source": [
    "### Part A"
   ]
  },
  {
   "cell_type": "markdown",
   "metadata": {},
   "source": [
    "### 1. Find the top 15 most popular restaurant in Las Vegas"
   ]
  },
  {
   "cell_type": "code",
   "execution_count": 1,
   "metadata": {},
   "outputs": [],
   "source": [
    "import os\n",
    "import pandas as pd\n",
    "import matplotlib.pyplot as plt\n",
    "import numpy as np\n",
    "from sklearn.cluster import KMeans\n",
    "import sklearn.metrics as metrics"
   ]
  },
  {
   "cell_type": "code",
   "execution_count": 2,
   "metadata": {},
   "outputs": [
    {
     "name": "stdout",
     "output_type": "stream",
     "text": [
      "/Users/minzhou/Desktop/CS506/cs506-f18-a2-minzhou1003/yelp_dataset_challenge_academic_dataset/yelp_academic_dataset_business.json\n"
     ]
    }
   ],
   "source": [
    "current_path = os.getcwd()\n",
    "data_set_folder = 'yelp_dataset_challenge_academic_dataset'\n",
    "business_data_path = os.path.join(current_path, data_set_folder, 'yelp_academic_dataset_business.json')\n",
    "print(business_data_path)"
   ]
  },
  {
   "cell_type": "code",
   "execution_count": 3,
   "metadata": {},
   "outputs": [],
   "source": [
    "df = pd.read_json(business_data_path, lines=True)\n",
    "df_las_vegas = df[(df.city == 'Las Vegas')]\n",
    "business_df = df_las_vegas[['business_id', 'categories', 'latitude', 'longitude']]\n",
    "categories = [''.join(cat).replace('(', '').replace(')', '').replace(' ', '') for cat in business_df['categories']]\n",
    "categories_df = pd.DataFrame(categories, columns=['category'])\n",
    "restaurant_df = categories_df[categories_df.category.str.contains('Restaurant')]\n",
    "count_categories = restaurant_df.category.value_counts()"
   ]
  },
  {
   "cell_type": "code",
   "execution_count": 4,
   "metadata": {
    "scrolled": true
   },
   "outputs": [
    {
     "name": "stdout",
     "output_type": "stream",
     "text": [
      "Top 15 restaurant categories:\n"
     ]
    },
    {
     "data": {
      "text/plain": [
       "MexicanRestaurants                337\n",
       "PizzaRestaurants                  245\n",
       "ChineseRestaurants                177\n",
       "BurgersFastFoodRestaurants        157\n",
       "FastFoodRestaurants               109\n",
       "FastFoodSandwichesRestaurants     109\n",
       "AmericanTraditionalRestaurants    107\n",
       "SandwichesRestaurants             101\n",
       "RestaurantsItalian                 95\n",
       "AmericanNewRestaurants             83\n",
       "FastFoodMexicanRestaurants         83\n",
       "SushiBarsJapaneseRestaurants       82\n",
       "ThaiRestaurants                    69\n",
       "JapaneseRestaurants                61\n",
       "SteakhousesRestaurants             60\n",
       "Name: category, dtype: int64"
      ]
     },
     "execution_count": 4,
     "metadata": {},
     "output_type": "execute_result"
    }
   ],
   "source": [
    "count_categories = count_categories.sort_values(ascending=False)\n",
    "top_categories = count_categories.iloc[:15]\n",
    "print(\"Top 15 restaurant categories:\")\n",
    "top_categories"
   ]
  },
  {
   "cell_type": "code",
   "execution_count": 5,
   "metadata": {},
   "outputs": [],
   "source": [
    "top_categories_list = top_categories.index.tolist()"
   ]
  },
  {
   "cell_type": "code",
   "execution_count": 6,
   "metadata": {},
   "outputs": [
    {
     "data": {
      "text/html": [
       "<div>\n",
       "<style scoped>\n",
       "    .dataframe tbody tr th:only-of-type {\n",
       "        vertical-align: middle;\n",
       "    }\n",
       "\n",
       "    .dataframe tbody tr th {\n",
       "        vertical-align: top;\n",
       "    }\n",
       "\n",
       "    .dataframe thead th {\n",
       "        text-align: right;\n",
       "    }\n",
       "</style>\n",
       "<table border=\"1\" class=\"dataframe\">\n",
       "  <thead>\n",
       "    <tr style=\"text-align: right;\">\n",
       "      <th></th>\n",
       "      <th>business_id</th>\n",
       "      <th>latitude</th>\n",
       "      <th>longitude</th>\n",
       "      <th>category</th>\n",
       "    </tr>\n",
       "  </thead>\n",
       "  <tbody>\n",
       "    <tr>\n",
       "      <th>8290</th>\n",
       "      <td>AgtFQVxo-PGQVsOdY6Nvdg</td>\n",
       "      <td>35.999205</td>\n",
       "      <td>-115.107474</td>\n",
       "      <td>PizzaRestaurants</td>\n",
       "    </tr>\n",
       "    <tr>\n",
       "      <th>8488</th>\n",
       "      <td>AFDFOs2GaIyUArGyEUDQzQ</td>\n",
       "      <td>36.125908</td>\n",
       "      <td>-115.197904</td>\n",
       "      <td>ChineseRestaurants</td>\n",
       "    </tr>\n",
       "    <tr>\n",
       "      <th>8503</th>\n",
       "      <td>R5e2XWtpa_CA77MIXEyCTg</td>\n",
       "      <td>36.130335</td>\n",
       "      <td>-115.206002</td>\n",
       "      <td>FastFoodSandwichesRestaurants</td>\n",
       "    </tr>\n",
       "    <tr>\n",
       "      <th>8508</th>\n",
       "      <td>pCobXgTy6DIfBaT4pjlq0w</td>\n",
       "      <td>36.143326</td>\n",
       "      <td>-115.206316</td>\n",
       "      <td>SandwichesRestaurants</td>\n",
       "    </tr>\n",
       "    <tr>\n",
       "      <th>8520</th>\n",
       "      <td>V8id7mkt3nJYOD_HthEn1w</td>\n",
       "      <td>36.145191</td>\n",
       "      <td>-115.192593</td>\n",
       "      <td>ChineseRestaurants</td>\n",
       "    </tr>\n",
       "    <tr>\n",
       "      <th>8523</th>\n",
       "      <td>9-O8qKGQQCYXdBlj4iv7bw</td>\n",
       "      <td>36.144676</td>\n",
       "      <td>-115.175041</td>\n",
       "      <td>RestaurantsItalian</td>\n",
       "    </tr>\n",
       "    <tr>\n",
       "      <th>8533</th>\n",
       "      <td>A2aVN_Yw3xDz4x7gGtmYog</td>\n",
       "      <td>36.146282</td>\n",
       "      <td>-115.190504</td>\n",
       "      <td>MexicanRestaurants</td>\n",
       "    </tr>\n",
       "    <tr>\n",
       "      <th>8553</th>\n",
       "      <td>N2tjtB2hb0rrEQM9503qEg</td>\n",
       "      <td>36.149789</td>\n",
       "      <td>-115.207595</td>\n",
       "      <td>FastFoodSandwichesRestaurants</td>\n",
       "    </tr>\n",
       "    <tr>\n",
       "      <th>8559</th>\n",
       "      <td>pNqHRWlrbh71zbPZNd7_2g</td>\n",
       "      <td>36.126613</td>\n",
       "      <td>-115.207050</td>\n",
       "      <td>ChineseRestaurants</td>\n",
       "    </tr>\n",
       "    <tr>\n",
       "      <th>8567</th>\n",
       "      <td>idvjjh3yCDu7Hupzl89iQw</td>\n",
       "      <td>36.144081</td>\n",
       "      <td>-115.194348</td>\n",
       "      <td>FastFoodRestaurants</td>\n",
       "    </tr>\n",
       "    <tr>\n",
       "      <th>8589</th>\n",
       "      <td>UVZ5auVZrbvgJ0VbWW_P8Q</td>\n",
       "      <td>36.143974</td>\n",
       "      <td>-115.184269</td>\n",
       "      <td>PizzaRestaurants</td>\n",
       "    </tr>\n",
       "    <tr>\n",
       "      <th>8590</th>\n",
       "      <td>SvS58LlrEMHjSwJmpJNKGA</td>\n",
       "      <td>36.159091</td>\n",
       "      <td>-115.172108</td>\n",
       "      <td>SandwichesRestaurants</td>\n",
       "    </tr>\n",
       "    <tr>\n",
       "      <th>8593</th>\n",
       "      <td>Vkm6ZWlPhIioFk6xiypSjg</td>\n",
       "      <td>36.125431</td>\n",
       "      <td>-115.196966</td>\n",
       "      <td>ChineseRestaurants</td>\n",
       "    </tr>\n",
       "    <tr>\n",
       "      <th>8595</th>\n",
       "      <td>4qHd6e7kAL9dszYrQUkjLg</td>\n",
       "      <td>36.143114</td>\n",
       "      <td>-115.208505</td>\n",
       "      <td>AmericanTraditionalRestaurants</td>\n",
       "    </tr>\n",
       "    <tr>\n",
       "      <th>8611</th>\n",
       "      <td>-NXDZfqwfZ9OWba180HqFw</td>\n",
       "      <td>36.144725</td>\n",
       "      <td>-115.191611</td>\n",
       "      <td>MexicanRestaurants</td>\n",
       "    </tr>\n",
       "    <tr>\n",
       "      <th>8624</th>\n",
       "      <td>4UVhuOLaMm2-34SrW8y-ag</td>\n",
       "      <td>36.125908</td>\n",
       "      <td>-115.197904</td>\n",
       "      <td>JapaneseRestaurants</td>\n",
       "    </tr>\n",
       "    <tr>\n",
       "      <th>8633</th>\n",
       "      <td>PTbikfcSHR1dTze0EJQMlA</td>\n",
       "      <td>36.145727</td>\n",
       "      <td>-115.190329</td>\n",
       "      <td>PizzaRestaurants</td>\n",
       "    </tr>\n",
       "    <tr>\n",
       "      <th>8644</th>\n",
       "      <td>MR3-Ll-hoUGZMA-B1MTgGQ</td>\n",
       "      <td>36.158590</td>\n",
       "      <td>-115.164933</td>\n",
       "      <td>BurgersFastFoodRestaurants</td>\n",
       "    </tr>\n",
       "    <tr>\n",
       "      <th>8646</th>\n",
       "      <td>0EZ3j0POS4FC5zYjUDU4Cg</td>\n",
       "      <td>36.102015</td>\n",
       "      <td>-115.296532</td>\n",
       "      <td>JapaneseRestaurants</td>\n",
       "    </tr>\n",
       "    <tr>\n",
       "      <th>8659</th>\n",
       "      <td>YZuHOgbKiP3dN4_ROOUyDQ</td>\n",
       "      <td>36.144093</td>\n",
       "      <td>-115.161143</td>\n",
       "      <td>SteakhousesRestaurants</td>\n",
       "    </tr>\n",
       "    <tr>\n",
       "      <th>8662</th>\n",
       "      <td>sewf0n2bOKcKTvy2Xo1H8g</td>\n",
       "      <td>36.159216</td>\n",
       "      <td>-115.161971</td>\n",
       "      <td>BurgersFastFoodRestaurants</td>\n",
       "    </tr>\n",
       "    <tr>\n",
       "      <th>8684</th>\n",
       "      <td>Yin_BwfzTOdC8VY9ZD4K6w</td>\n",
       "      <td>36.144129</td>\n",
       "      <td>-115.161461</td>\n",
       "      <td>SandwichesRestaurants</td>\n",
       "    </tr>\n",
       "    <tr>\n",
       "      <th>8712</th>\n",
       "      <td>pj0vl4DIlDCChe80Df40Yw</td>\n",
       "      <td>36.149789</td>\n",
       "      <td>-115.207595</td>\n",
       "      <td>ChineseRestaurants</td>\n",
       "    </tr>\n",
       "    <tr>\n",
       "      <th>8713</th>\n",
       "      <td>MI0OfnmlfkUh2xPhT1lQSg</td>\n",
       "      <td>36.158992</td>\n",
       "      <td>-115.202640</td>\n",
       "      <td>ChineseRestaurants</td>\n",
       "    </tr>\n",
       "    <tr>\n",
       "      <th>8714</th>\n",
       "      <td>FkXmvdpccuMFfNI6zgmXEA</td>\n",
       "      <td>36.145043</td>\n",
       "      <td>-115.207615</td>\n",
       "      <td>FastFoodMexicanRestaurants</td>\n",
       "    </tr>\n",
       "    <tr>\n",
       "      <th>8717</th>\n",
       "      <td>BhYS6Vo44NnZZDoJdWLMmw</td>\n",
       "      <td>36.158989</td>\n",
       "      <td>-115.202086</td>\n",
       "      <td>PizzaRestaurants</td>\n",
       "    </tr>\n",
       "    <tr>\n",
       "      <th>8724</th>\n",
       "      <td>Bs7FcmlfHfCq2lf-FUKLCw</td>\n",
       "      <td>36.145040</td>\n",
       "      <td>-115.204936</td>\n",
       "      <td>FastFoodMexicanRestaurants</td>\n",
       "    </tr>\n",
       "    <tr>\n",
       "      <th>8747</th>\n",
       "      <td>UsZ9ZvDh8Fo5mZeKs4w9mg</td>\n",
       "      <td>36.148658</td>\n",
       "      <td>-115.209813</td>\n",
       "      <td>MexicanRestaurants</td>\n",
       "    </tr>\n",
       "    <tr>\n",
       "      <th>8763</th>\n",
       "      <td>V3S6RpKgYc5XCLjgI9JeeQ</td>\n",
       "      <td>36.144025</td>\n",
       "      <td>-115.193877</td>\n",
       "      <td>ChineseRestaurants</td>\n",
       "    </tr>\n",
       "    <tr>\n",
       "      <th>8766</th>\n",
       "      <td>dR-Zz3l3ws-P08dI6F8Zew</td>\n",
       "      <td>36.144013</td>\n",
       "      <td>-115.193147</td>\n",
       "      <td>ThaiRestaurants</td>\n",
       "    </tr>\n",
       "    <tr>\n",
       "      <th>...</th>\n",
       "      <td>...</td>\n",
       "      <td>...</td>\n",
       "      <td>...</td>\n",
       "      <td>...</td>\n",
       "    </tr>\n",
       "    <tr>\n",
       "      <th>76621</th>\n",
       "      <td>LoIYagcbbQ1lz_p1VDS5KA</td>\n",
       "      <td>36.108911</td>\n",
       "      <td>-115.172150</td>\n",
       "      <td>AmericanTraditionalRestaurants</td>\n",
       "    </tr>\n",
       "    <tr>\n",
       "      <th>76639</th>\n",
       "      <td>YfFYOi7y1eXQpoT0FhAWKg</td>\n",
       "      <td>36.158552</td>\n",
       "      <td>-115.122966</td>\n",
       "      <td>BurgersFastFoodRestaurants</td>\n",
       "    </tr>\n",
       "    <tr>\n",
       "      <th>76641</th>\n",
       "      <td>ZVrfWy0ho5rU6Z4hC94SFw</td>\n",
       "      <td>36.125929</td>\n",
       "      <td>-115.197631</td>\n",
       "      <td>ChineseRestaurants</td>\n",
       "    </tr>\n",
       "    <tr>\n",
       "      <th>76691</th>\n",
       "      <td>6jzuGVc_QICK3s6yKu9MKw</td>\n",
       "      <td>36.125908</td>\n",
       "      <td>-115.197904</td>\n",
       "      <td>ChineseRestaurants</td>\n",
       "    </tr>\n",
       "    <tr>\n",
       "      <th>76693</th>\n",
       "      <td>O9LyFSGpAedB8RQUWh_ang</td>\n",
       "      <td>36.108662</td>\n",
       "      <td>-115.172141</td>\n",
       "      <td>AmericanNewRestaurants</td>\n",
       "    </tr>\n",
       "    <tr>\n",
       "      <th>76707</th>\n",
       "      <td>wcnOToLkOrxynG18ezVfhg</td>\n",
       "      <td>36.024326</td>\n",
       "      <td>-115.172926</td>\n",
       "      <td>MexicanRestaurants</td>\n",
       "    </tr>\n",
       "    <tr>\n",
       "      <th>76777</th>\n",
       "      <td>sKlgXu6uY0nXp9LudsjfoA</td>\n",
       "      <td>36.159570</td>\n",
       "      <td>-115.230298</td>\n",
       "      <td>ThaiRestaurants</td>\n",
       "    </tr>\n",
       "    <tr>\n",
       "      <th>76787</th>\n",
       "      <td>iRS9SBAAMZ_ByqOYBxQ7LA</td>\n",
       "      <td>36.144296</td>\n",
       "      <td>-115.162692</td>\n",
       "      <td>ChineseRestaurants</td>\n",
       "    </tr>\n",
       "    <tr>\n",
       "      <th>76798</th>\n",
       "      <td>3kYwCIFa5LHM10snNQ4lmQ</td>\n",
       "      <td>36.127039</td>\n",
       "      <td>-115.198749</td>\n",
       "      <td>SushiBarsJapaneseRestaurants</td>\n",
       "    </tr>\n",
       "    <tr>\n",
       "      <th>76835</th>\n",
       "      <td>ko_WxEFwhcIO_6DfrsmNJg</td>\n",
       "      <td>36.043263</td>\n",
       "      <td>-115.150276</td>\n",
       "      <td>PizzaRestaurants</td>\n",
       "    </tr>\n",
       "    <tr>\n",
       "      <th>76876</th>\n",
       "      <td>oy90Dd3UjsyAmj_lxSda5g</td>\n",
       "      <td>36.106504</td>\n",
       "      <td>-115.297941</td>\n",
       "      <td>PizzaRestaurants</td>\n",
       "    </tr>\n",
       "    <tr>\n",
       "      <th>76911</th>\n",
       "      <td>Fxa33c46loYufI_rYKF5GA</td>\n",
       "      <td>36.159932</td>\n",
       "      <td>-115.222205</td>\n",
       "      <td>SushiBarsJapaneseRestaurants</td>\n",
       "    </tr>\n",
       "    <tr>\n",
       "      <th>76917</th>\n",
       "      <td>xpaR2eDws2Ubns6nUVakeA</td>\n",
       "      <td>36.151857</td>\n",
       "      <td>-115.151595</td>\n",
       "      <td>MexicanRestaurants</td>\n",
       "    </tr>\n",
       "    <tr>\n",
       "      <th>76966</th>\n",
       "      <td>_44__hQ4GxGNRzkhLHBw0A</td>\n",
       "      <td>36.107226</td>\n",
       "      <td>-115.173768</td>\n",
       "      <td>RestaurantsItalian</td>\n",
       "    </tr>\n",
       "    <tr>\n",
       "      <th>76996</th>\n",
       "      <td>NXQkGFnc5P9xZamOxCrz6w</td>\n",
       "      <td>36.196944</td>\n",
       "      <td>-115.262118</td>\n",
       "      <td>RestaurantsItalian</td>\n",
       "    </tr>\n",
       "    <tr>\n",
       "      <th>77004</th>\n",
       "      <td>p_ruH6bwGDzIuelvJ5w1mQ</td>\n",
       "      <td>36.145418</td>\n",
       "      <td>-115.334235</td>\n",
       "      <td>MexicanRestaurants</td>\n",
       "    </tr>\n",
       "    <tr>\n",
       "      <th>77006</th>\n",
       "      <td>GDmDuA11pKCRYmLa_vOe3Q</td>\n",
       "      <td>36.126786</td>\n",
       "      <td>-115.224101</td>\n",
       "      <td>ChineseRestaurants</td>\n",
       "    </tr>\n",
       "    <tr>\n",
       "      <th>77012</th>\n",
       "      <td>cDqPv5gS41ZmZIh3oJ_HfA</td>\n",
       "      <td>36.160214</td>\n",
       "      <td>-115.321554</td>\n",
       "      <td>ChineseRestaurants</td>\n",
       "    </tr>\n",
       "    <tr>\n",
       "      <th>77046</th>\n",
       "      <td>UVfwIT8uLS0_SDifp9NifQ</td>\n",
       "      <td>36.128143</td>\n",
       "      <td>-115.314572</td>\n",
       "      <td>MexicanRestaurants</td>\n",
       "    </tr>\n",
       "    <tr>\n",
       "      <th>77054</th>\n",
       "      <td>c8b7niizd3jigDlq-z_E6Q</td>\n",
       "      <td>36.144023</td>\n",
       "      <td>-115.195896</td>\n",
       "      <td>ThaiRestaurants</td>\n",
       "    </tr>\n",
       "    <tr>\n",
       "      <th>77122</th>\n",
       "      <td>xIUWIc8eJsQPRuHD0RDrIA</td>\n",
       "      <td>36.161205</td>\n",
       "      <td>-115.145457</td>\n",
       "      <td>PizzaRestaurants</td>\n",
       "    </tr>\n",
       "    <tr>\n",
       "      <th>77144</th>\n",
       "      <td>oWrE_vMARvRVbf0jjeIrTw</td>\n",
       "      <td>36.098371</td>\n",
       "      <td>-115.148566</td>\n",
       "      <td>MexicanRestaurants</td>\n",
       "    </tr>\n",
       "    <tr>\n",
       "      <th>77172</th>\n",
       "      <td>ZdQzmtUJ8TgPhN58u3z-2g</td>\n",
       "      <td>36.142449</td>\n",
       "      <td>-115.268677</td>\n",
       "      <td>PizzaRestaurants</td>\n",
       "    </tr>\n",
       "    <tr>\n",
       "      <th>77185</th>\n",
       "      <td>C-evrHe6XX0O0QLXbVmKmg</td>\n",
       "      <td>35.998741</td>\n",
       "      <td>-115.205507</td>\n",
       "      <td>FastFoodMexicanRestaurants</td>\n",
       "    </tr>\n",
       "    <tr>\n",
       "      <th>77201</th>\n",
       "      <td>QE-IU_Is1a-3iXacdBWDgA</td>\n",
       "      <td>36.055906</td>\n",
       "      <td>-115.116348</td>\n",
       "      <td>PizzaRestaurants</td>\n",
       "    </tr>\n",
       "    <tr>\n",
       "      <th>77209</th>\n",
       "      <td>pbUoXNUIs0nQMGncVKtEjw</td>\n",
       "      <td>36.039781</td>\n",
       "      <td>-115.190902</td>\n",
       "      <td>MexicanRestaurants</td>\n",
       "    </tr>\n",
       "    <tr>\n",
       "      <th>77351</th>\n",
       "      <td>1s6YBE96-tRIdOFU8humaA</td>\n",
       "      <td>36.142969</td>\n",
       "      <td>-115.280103</td>\n",
       "      <td>RestaurantsItalian</td>\n",
       "    </tr>\n",
       "    <tr>\n",
       "      <th>77383</th>\n",
       "      <td>VpAQ2sr-VzcT7j7MByW53w</td>\n",
       "      <td>36.060256</td>\n",
       "      <td>-115.278746</td>\n",
       "      <td>MexicanRestaurants</td>\n",
       "    </tr>\n",
       "    <tr>\n",
       "      <th>77392</th>\n",
       "      <td>89Nesr_PBYwn0lu3AiJMWg</td>\n",
       "      <td>36.143945</td>\n",
       "      <td>-115.064099</td>\n",
       "      <td>MexicanRestaurants</td>\n",
       "    </tr>\n",
       "    <tr>\n",
       "      <th>77436</th>\n",
       "      <td>g4_7pOA-6uO19l2S2Tl2Pw</td>\n",
       "      <td>36.128745</td>\n",
       "      <td>-115.164242</td>\n",
       "      <td>AmericanTraditionalRestaurants</td>\n",
       "    </tr>\n",
       "  </tbody>\n",
       "</table>\n",
       "<p>1875 rows × 4 columns</p>\n",
       "</div>"
      ],
      "text/plain": [
       "                  business_id   latitude   longitude  \\\n",
       "8290   AgtFQVxo-PGQVsOdY6Nvdg  35.999205 -115.107474   \n",
       "8488   AFDFOs2GaIyUArGyEUDQzQ  36.125908 -115.197904   \n",
       "8503   R5e2XWtpa_CA77MIXEyCTg  36.130335 -115.206002   \n",
       "8508   pCobXgTy6DIfBaT4pjlq0w  36.143326 -115.206316   \n",
       "8520   V8id7mkt3nJYOD_HthEn1w  36.145191 -115.192593   \n",
       "8523   9-O8qKGQQCYXdBlj4iv7bw  36.144676 -115.175041   \n",
       "8533   A2aVN_Yw3xDz4x7gGtmYog  36.146282 -115.190504   \n",
       "8553   N2tjtB2hb0rrEQM9503qEg  36.149789 -115.207595   \n",
       "8559   pNqHRWlrbh71zbPZNd7_2g  36.126613 -115.207050   \n",
       "8567   idvjjh3yCDu7Hupzl89iQw  36.144081 -115.194348   \n",
       "8589   UVZ5auVZrbvgJ0VbWW_P8Q  36.143974 -115.184269   \n",
       "8590   SvS58LlrEMHjSwJmpJNKGA  36.159091 -115.172108   \n",
       "8593   Vkm6ZWlPhIioFk6xiypSjg  36.125431 -115.196966   \n",
       "8595   4qHd6e7kAL9dszYrQUkjLg  36.143114 -115.208505   \n",
       "8611   -NXDZfqwfZ9OWba180HqFw  36.144725 -115.191611   \n",
       "8624   4UVhuOLaMm2-34SrW8y-ag  36.125908 -115.197904   \n",
       "8633   PTbikfcSHR1dTze0EJQMlA  36.145727 -115.190329   \n",
       "8644   MR3-Ll-hoUGZMA-B1MTgGQ  36.158590 -115.164933   \n",
       "8646   0EZ3j0POS4FC5zYjUDU4Cg  36.102015 -115.296532   \n",
       "8659   YZuHOgbKiP3dN4_ROOUyDQ  36.144093 -115.161143   \n",
       "8662   sewf0n2bOKcKTvy2Xo1H8g  36.159216 -115.161971   \n",
       "8684   Yin_BwfzTOdC8VY9ZD4K6w  36.144129 -115.161461   \n",
       "8712   pj0vl4DIlDCChe80Df40Yw  36.149789 -115.207595   \n",
       "8713   MI0OfnmlfkUh2xPhT1lQSg  36.158992 -115.202640   \n",
       "8714   FkXmvdpccuMFfNI6zgmXEA  36.145043 -115.207615   \n",
       "8717   BhYS6Vo44NnZZDoJdWLMmw  36.158989 -115.202086   \n",
       "8724   Bs7FcmlfHfCq2lf-FUKLCw  36.145040 -115.204936   \n",
       "8747   UsZ9ZvDh8Fo5mZeKs4w9mg  36.148658 -115.209813   \n",
       "8763   V3S6RpKgYc5XCLjgI9JeeQ  36.144025 -115.193877   \n",
       "8766   dR-Zz3l3ws-P08dI6F8Zew  36.144013 -115.193147   \n",
       "...                       ...        ...         ...   \n",
       "76621  LoIYagcbbQ1lz_p1VDS5KA  36.108911 -115.172150   \n",
       "76639  YfFYOi7y1eXQpoT0FhAWKg  36.158552 -115.122966   \n",
       "76641  ZVrfWy0ho5rU6Z4hC94SFw  36.125929 -115.197631   \n",
       "76691  6jzuGVc_QICK3s6yKu9MKw  36.125908 -115.197904   \n",
       "76693  O9LyFSGpAedB8RQUWh_ang  36.108662 -115.172141   \n",
       "76707  wcnOToLkOrxynG18ezVfhg  36.024326 -115.172926   \n",
       "76777  sKlgXu6uY0nXp9LudsjfoA  36.159570 -115.230298   \n",
       "76787  iRS9SBAAMZ_ByqOYBxQ7LA  36.144296 -115.162692   \n",
       "76798  3kYwCIFa5LHM10snNQ4lmQ  36.127039 -115.198749   \n",
       "76835  ko_WxEFwhcIO_6DfrsmNJg  36.043263 -115.150276   \n",
       "76876  oy90Dd3UjsyAmj_lxSda5g  36.106504 -115.297941   \n",
       "76911  Fxa33c46loYufI_rYKF5GA  36.159932 -115.222205   \n",
       "76917  xpaR2eDws2Ubns6nUVakeA  36.151857 -115.151595   \n",
       "76966  _44__hQ4GxGNRzkhLHBw0A  36.107226 -115.173768   \n",
       "76996  NXQkGFnc5P9xZamOxCrz6w  36.196944 -115.262118   \n",
       "77004  p_ruH6bwGDzIuelvJ5w1mQ  36.145418 -115.334235   \n",
       "77006  GDmDuA11pKCRYmLa_vOe3Q  36.126786 -115.224101   \n",
       "77012  cDqPv5gS41ZmZIh3oJ_HfA  36.160214 -115.321554   \n",
       "77046  UVfwIT8uLS0_SDifp9NifQ  36.128143 -115.314572   \n",
       "77054  c8b7niizd3jigDlq-z_E6Q  36.144023 -115.195896   \n",
       "77122  xIUWIc8eJsQPRuHD0RDrIA  36.161205 -115.145457   \n",
       "77144  oWrE_vMARvRVbf0jjeIrTw  36.098371 -115.148566   \n",
       "77172  ZdQzmtUJ8TgPhN58u3z-2g  36.142449 -115.268677   \n",
       "77185  C-evrHe6XX0O0QLXbVmKmg  35.998741 -115.205507   \n",
       "77201  QE-IU_Is1a-3iXacdBWDgA  36.055906 -115.116348   \n",
       "77209  pbUoXNUIs0nQMGncVKtEjw  36.039781 -115.190902   \n",
       "77351  1s6YBE96-tRIdOFU8humaA  36.142969 -115.280103   \n",
       "77383  VpAQ2sr-VzcT7j7MByW53w  36.060256 -115.278746   \n",
       "77392  89Nesr_PBYwn0lu3AiJMWg  36.143945 -115.064099   \n",
       "77436  g4_7pOA-6uO19l2S2Tl2Pw  36.128745 -115.164242   \n",
       "\n",
       "                             category  \n",
       "8290                 PizzaRestaurants  \n",
       "8488               ChineseRestaurants  \n",
       "8503    FastFoodSandwichesRestaurants  \n",
       "8508            SandwichesRestaurants  \n",
       "8520               ChineseRestaurants  \n",
       "8523               RestaurantsItalian  \n",
       "8533               MexicanRestaurants  \n",
       "8553    FastFoodSandwichesRestaurants  \n",
       "8559               ChineseRestaurants  \n",
       "8567              FastFoodRestaurants  \n",
       "8589                 PizzaRestaurants  \n",
       "8590            SandwichesRestaurants  \n",
       "8593               ChineseRestaurants  \n",
       "8595   AmericanTraditionalRestaurants  \n",
       "8611               MexicanRestaurants  \n",
       "8624              JapaneseRestaurants  \n",
       "8633                 PizzaRestaurants  \n",
       "8644       BurgersFastFoodRestaurants  \n",
       "8646              JapaneseRestaurants  \n",
       "8659           SteakhousesRestaurants  \n",
       "8662       BurgersFastFoodRestaurants  \n",
       "8684            SandwichesRestaurants  \n",
       "8712               ChineseRestaurants  \n",
       "8713               ChineseRestaurants  \n",
       "8714       FastFoodMexicanRestaurants  \n",
       "8717                 PizzaRestaurants  \n",
       "8724       FastFoodMexicanRestaurants  \n",
       "8747               MexicanRestaurants  \n",
       "8763               ChineseRestaurants  \n",
       "8766                  ThaiRestaurants  \n",
       "...                               ...  \n",
       "76621  AmericanTraditionalRestaurants  \n",
       "76639      BurgersFastFoodRestaurants  \n",
       "76641              ChineseRestaurants  \n",
       "76691              ChineseRestaurants  \n",
       "76693          AmericanNewRestaurants  \n",
       "76707              MexicanRestaurants  \n",
       "76777                 ThaiRestaurants  \n",
       "76787              ChineseRestaurants  \n",
       "76798    SushiBarsJapaneseRestaurants  \n",
       "76835                PizzaRestaurants  \n",
       "76876                PizzaRestaurants  \n",
       "76911    SushiBarsJapaneseRestaurants  \n",
       "76917              MexicanRestaurants  \n",
       "76966              RestaurantsItalian  \n",
       "76996              RestaurantsItalian  \n",
       "77004              MexicanRestaurants  \n",
       "77006              ChineseRestaurants  \n",
       "77012              ChineseRestaurants  \n",
       "77046              MexicanRestaurants  \n",
       "77054                 ThaiRestaurants  \n",
       "77122                PizzaRestaurants  \n",
       "77144              MexicanRestaurants  \n",
       "77172                PizzaRestaurants  \n",
       "77185      FastFoodMexicanRestaurants  \n",
       "77201                PizzaRestaurants  \n",
       "77209              MexicanRestaurants  \n",
       "77351              RestaurantsItalian  \n",
       "77383              MexicanRestaurants  \n",
       "77392              MexicanRestaurants  \n",
       "77436  AmericanTraditionalRestaurants  \n",
       "\n",
       "[1875 rows x 4 columns]"
      ]
     },
     "execution_count": 6,
     "metadata": {},
     "output_type": "execute_result"
    }
   ],
   "source": [
    "business_df = business_df.assign(category=categories_df.values)\n",
    "top_business_df = business_df[business_df.category.isin(top_categories_list)]\n",
    "top_business_df = top_business_df.drop(['categories'], axis=1)\n",
    "top_business_df"
   ]
  },
  {
   "cell_type": "markdown",
   "metadata": {},
   "source": [
    "### 2. Prepare the feature vector\n",
    "### 2.1 Convert category to vectors using TfidfVectorizer"
   ]
  },
  {
   "cell_type": "code",
   "execution_count": 63,
   "metadata": {},
   "outputs": [
    {
     "name": "stdout",
     "output_type": "stream",
     "text": [
      "15\n",
      "(1875, 15)\n",
      "[[0. 0. 0. ... 0. 0. 0.]\n",
      " [0. 0. 0. ... 0. 0. 0.]\n",
      " [0. 0. 0. ... 0. 0. 0.]\n",
      " ...\n",
      " [0. 0. 0. ... 0. 0. 0.]\n",
      " [0. 0. 0. ... 0. 0. 0.]\n",
      " [0. 1. 0. ... 0. 0. 0.]]\n"
     ]
    }
   ],
   "source": [
    "from sklearn.feature_extraction.text import TfidfVectorizer\n",
    "\n",
    "vectorizer = TfidfVectorizer()\n",
    "vectorizer.fit(top_categories_list)\n",
    "print(len(top_categories_list))\n",
    "vocabulary = sorted(vectorizer.vocabulary_.items(), key=lambda kv: kv[1])\n",
    "category_vec = vectorizer.transform(top_business_df.category).toarray()\n",
    "\n",
    "print(category_vec.shape)\n",
    "print(category_vec)"
   ]
  },
  {
   "cell_type": "code",
   "execution_count": 64,
   "metadata": {},
   "outputs": [
    {
     "data": {
      "text/plain": [
       "[('americannewrestaurants', 0),\n",
       " ('americantraditionalrestaurants', 1),\n",
       " ('burgersfastfoodrestaurants', 2),\n",
       " ('chineserestaurants', 3),\n",
       " ('fastfoodmexicanrestaurants', 4),\n",
       " ('fastfoodrestaurants', 5),\n",
       " ('fastfoodsandwichesrestaurants', 6),\n",
       " ('japaneserestaurants', 7),\n",
       " ('mexicanrestaurants', 8),\n",
       " ('pizzarestaurants', 9),\n",
       " ('restaurantsitalian', 10),\n",
       " ('sandwichesrestaurants', 11),\n",
       " ('steakhousesrestaurants', 12),\n",
       " ('sushibarsjapaneserestaurants', 13),\n",
       " ('thairestaurants', 14)]"
      ]
     },
     "execution_count": 64,
     "metadata": {},
     "output_type": "execute_result"
    }
   ],
   "source": [
    "vocabulary"
   ]
  },
  {
   "cell_type": "markdown",
   "metadata": {},
   "source": [
    "### 2.2 Put weights to the categories vector\n",
    "\n",
    "The weights are calculated by the number of counts of each category. For example, if there are 337 Mexican Restaurants, then the weights for it is 337/total number of restaurants."
   ]
  },
  {
   "cell_type": "code",
   "execution_count": 65,
   "metadata": {},
   "outputs": [
    {
     "data": {
      "text/plain": [
       "{'mexicanrestaurants': 0.17973333333333333,\n",
       " 'pizzarestaurants': 0.13066666666666665,\n",
       " 'chineserestaurants': 0.0944,\n",
       " 'burgersfastfoodrestaurants': 0.08373333333333334,\n",
       " 'fastfoodrestaurants': 0.058133333333333335,\n",
       " 'fastfoodsandwichesrestaurants': 0.058133333333333335,\n",
       " 'americantraditionalrestaurants': 0.05706666666666667,\n",
       " 'sandwichesrestaurants': 0.05386666666666667,\n",
       " 'restaurantsitalian': 0.050666666666666665,\n",
       " 'americannewrestaurants': 0.04426666666666667,\n",
       " 'fastfoodmexicanrestaurants': 0.04426666666666667,\n",
       " 'sushibarsjapaneserestaurants': 0.04373333333333333,\n",
       " 'thairestaurants': 0.0368,\n",
       " 'japaneserestaurants': 0.03253333333333333,\n",
       " 'steakhousesrestaurants': 0.032}"
      ]
     },
     "execution_count": 65,
     "metadata": {},
     "output_type": "execute_result"
    }
   ],
   "source": [
    "cnt = top_categories.to_dict()\n",
    "weights = {k: v / total for total in (sum(cnt.values()),) for k, v in cnt.items()}\n",
    "weights =  {k.lower(): v for k, v in weights.items()}\n",
    "weights"
   ]
  },
  {
   "cell_type": "code",
   "execution_count": 66,
   "metadata": {},
   "outputs": [],
   "source": [
    "weight_array = []\n",
    "for item in vocabulary:\n",
    "    weight_array.append(weights[item[0]])\n",
    "weight_array = np.asarray(weight_array)"
   ]
  },
  {
   "cell_type": "code",
   "execution_count": 67,
   "metadata": {},
   "outputs": [
    {
     "name": "stdout",
     "output_type": "stream",
     "text": [
      "The category feature vector shape: (1875, 15)\n"
     ]
    }
   ],
   "source": [
    "category_vec = category_vec*weight_array\n",
    "print(f'The category feature vector shape: {category_vec.shape}')"
   ]
  },
  {
   "cell_type": "code",
   "execution_count": 68,
   "metadata": {},
   "outputs": [
    {
     "name": "stdout",
     "output_type": "stream",
     "text": [
      "The location feature vector shape: (1875, 2)\n"
     ]
    }
   ],
   "source": [
    "latitude_vec = top_business_df.latitude.values.reshape(-1, 1)\n",
    "longitude_vec = top_business_df.longitude.values.reshape(-1, 1)\n",
    "X_location = np.concatenate((latitude_vec, longitude_vec), axis=1)\n",
    "print(f'The location feature vector shape: {X_location.shape}')"
   ]
  },
  {
   "cell_type": "markdown",
   "metadata": {},
   "source": [
    "### 2.2 Scaling the location fearures using MinMaxScaler"
   ]
  },
  {
   "cell_type": "code",
   "execution_count": 69,
   "metadata": {},
   "outputs": [
    {
     "data": {
      "text/plain": [
       "array([[  35.9992047 , -115.1074743 ],\n",
       "       [  36.125908  , -115.197904  ],\n",
       "       [  36.130335  , -115.206002  ],\n",
       "       ...,\n",
       "       [  36.06025614, -115.27874554],\n",
       "       [  36.143945  , -115.064099  ],\n",
       "       [  36.12874469, -115.16424153]])"
      ]
     },
     "execution_count": 69,
     "metadata": {},
     "output_type": "execute_result"
    }
   ],
   "source": [
    "from sklearn import preprocessing\n",
    "\n",
    "minmax_scale = preprocessing.MinMaxScaler().fit(X_location)\n",
    "X_minmax = minmax_scale.transform(X_location)\n",
    "X_location"
   ]
  },
  {
   "cell_type": "code",
   "execution_count": 70,
   "metadata": {},
   "outputs": [
    {
     "data": {
      "text/plain": [
       "array([[  35.9992047 , -115.1074743 ],\n",
       "       [  36.125908  , -115.197904  ],\n",
       "       [  36.130335  , -115.206002  ],\n",
       "       ...,\n",
       "       [  36.06025614, -115.27874554],\n",
       "       [  36.143945  , -115.064099  ],\n",
       "       [  36.12874469, -115.16424153]])"
      ]
     },
     "execution_count": 70,
     "metadata": {},
     "output_type": "execute_result"
    }
   ],
   "source": [
    "minmax_scale.inverse_transform(X_minmax)"
   ]
  },
  {
   "cell_type": "markdown",
   "metadata": {},
   "source": [
    "Finally, the complete feature vector is:"
   ]
  },
  {
   "cell_type": "code",
   "execution_count": 71,
   "metadata": {},
   "outputs": [
    {
     "name": "stdout",
     "output_type": "stream",
     "text": [
      "The complete feature vector shape: (1875, 17)\n"
     ]
    }
   ],
   "source": [
    "X = np.concatenate((X_minmax, category_vec), axis=1)\n",
    "print(f'The complete feature vector shape: {X.shape}')"
   ]
  },
  {
   "cell_type": "markdown",
   "metadata": {},
   "source": [
    "### 3. Determine the optimal number of clusters \n",
    "\n",
    "The way I determine the optimal number of clusters is using `evaluate_clusters` function and the `sc_evaluate_clusters` function from the [lecture](https://github.com/lapets/course-data-science/blob/master/lecture-2018-10-04.ipynb)."
   ]
  },
  {
   "cell_type": "code",
   "execution_count": 72,
   "metadata": {},
   "outputs": [],
   "source": [
    "def evaluate_clusters(X, max_clusters):\n",
    "    error = np.zeros(max_clusters+1)\n",
    "    error[0] = 0\n",
    "    for k in range(1,max_clusters+1):\n",
    "        kmeans = KMeans(init='k-means++', n_clusters=k, n_init=10)\n",
    "        kmeans.fit_predict(X)\n",
    "        error[k] = kmeans.inertia_\n",
    "\n",
    "    plt.plot(range(1,len(error)),error[1:])\n",
    "    plt.xlabel('Number of clusters')\n",
    "    plt.ylabel('Error')"
   ]
  },
  {
   "cell_type": "code",
   "execution_count": 73,
   "metadata": {},
   "outputs": [
    {
     "data": {
      "image/png": "[encoded data removed]",
      "text/plain": [
       "<Figure size 432x288 with 1 Axes>"
      ]
     },
     "metadata": {},
     "output_type": "display_data"
    }
   ],
   "source": [
    "evaluate_clusters(X, 30)"
   ]
  },
  {
   "cell_type": "code",
   "execution_count": 74,
   "metadata": {},
   "outputs": [],
   "source": [
    "def sc_evaluate_clusters(X,max_clusters):\n",
    "    s = np.zeros(max_clusters+1)\n",
    "    s[0] = 0;\n",
    "    s[1] = 0;\n",
    "    for k in range(2,max_clusters+1):\n",
    "        kmeans = KMeans(init='k-means++', n_clusters=k, n_init=10)\n",
    "        kmeans.fit_predict(X)\n",
    "        s[k] = metrics.silhouette_score(X,kmeans.labels_,metric='euclidean')\n",
    "    plt.plot(range(2,len(s)),s[2:])\n",
    "    plt.xlabel('Number of clusters')\n",
    "    plt.ylabel('Silhouette Score')\n",
    "  "
   ]
  },
  {
   "cell_type": "code",
   "execution_count": 75,
   "metadata": {},
   "outputs": [
    {
     "data": {
      "image/png": "[encoded data removed]",
      "text/plain": [
       "<Figure size 432x288 with 1 Axes>"
      ]
     },
     "metadata": {},
     "output_type": "display_data"
    }
   ],
   "source": [
    "sc_evaluate_clusters(X,30)"
   ]
  },
  {
   "cell_type": "markdown",
   "metadata": {},
   "source": [
    "From above two graphs, I decided to use K = 5"
   ]
  },
  {
   "cell_type": "code",
   "execution_count": 140,
   "metadata": {},
   "outputs": [
    {
     "data": {
      "text/plain": [
       "array([3, 2, 2, ..., 4, 1, 2], dtype=int32)"
      ]
     },
     "execution_count": 140,
     "metadata": {},
     "output_type": "execute_result"
    }
   ],
   "source": [
    "kmeans = KMeans(n_clusters=5,init='k-means++', n_init=10, random_state=0).fit(X)\n",
    "y_problem1 = kmeans.predict(X)\n",
    "y_problem1"
   ]
  },
  {
   "cell_type": "markdown",
   "metadata": {},
   "source": [
    "### Part B"
   ]
  },
  {
   "cell_type": "markdown",
   "metadata": {},
   "source": [
    "To find out the label for each cluster:\n",
    "1. For each cluster, count the categories and assign them a score by occurrence rate.\n",
    "2. Pick the highest rate for each categories.\n",
    "3. assign highest-rate category for each cluster."
   ]
  },
  {
   "cell_type": "code",
   "execution_count": 106,
   "metadata": {},
   "outputs": [],
   "source": [
    "from collections import defaultdict, Counter\n",
    "\n",
    "res = defaultdict(list)\n",
    "for i in range(5):\n",
    "    counter = Counter(np.array(vectorizer.inverse_transform(X[y_problem1==i,-15:])).flatten())\n",
    "    total = sum(counter.values(), 0.0)\n",
    "    for key in counter:\n",
    "        counter[key] = (counter[key]/total, i)\n",
    "        res[key].append(counter[key])    "
   ]
  },
  {
   "cell_type": "code",
   "execution_count": 107,
   "metadata": {},
   "outputs": [
    {
     "data": {
      "text/plain": [
       "{'fastfoodmexicanrestaurants': (0.07547169811320754, 0),\n",
       " 'pizzarestaurants': (0.16226415094339622, 0),\n",
       " 'americantraditionalrestaurants': (0.08016877637130802, 3),\n",
       " 'fastfoodrestaurants': (0.09433962264150944, 0),\n",
       " 'chineserestaurants': (0.11281337047353761, 2),\n",
       " 'mexicanrestaurants': (0.3079584775086505, 1),\n",
       " 'thairestaurants': (0.04596100278551532, 2),\n",
       " 'sushibarsjapaneserestaurants': (0.06830601092896176, 4),\n",
       " 'restaurantsitalian': (0.07242339832869081, 2),\n",
       " 'fastfoodsandwichesrestaurants': (0.0759493670886076, 3),\n",
       " 'burgersfastfoodrestaurants': (0.11072664359861592, 1),\n",
       " 'sandwichesrestaurants': (0.08438818565400844, 3),\n",
       " 'japaneserestaurants': (0.04596100278551532, 2),\n",
       " 'americannewrestaurants': (0.05907172995780591, 3),\n",
       " 'steakhousesrestaurants': (0.06406685236768803, 2)}"
      ]
     },
     "execution_count": 107,
     "metadata": {},
     "output_type": "execute_result"
    }
   ],
   "source": [
    "# rate_dict {'category': (occurrence rate, cluster_id)}\n",
    "rate_dict = {}\n",
    "for item in res:\n",
    "    rate_dict[item] = max(res[item], key=lambda x: x[0])\n",
    "rate_dict"
   ]
  },
  {
   "cell_type": "code",
   "execution_count": 108,
   "metadata": {
    "scrolled": true
   },
   "outputs": [],
   "source": [
    "top_restaurant = sorted(rate_dict,key=lambda k: rate_dict[k][0], reverse=True)"
   ]
  },
  {
   "cell_type": "code",
   "execution_count": 109,
   "metadata": {},
   "outputs": [
    {
     "name": "stdout",
     "output_type": "stream",
     "text": [
      "Top restarant for each cluster: \n",
      "Cluster 1:\n",
      "Label: mexicanrestaurants\n",
      "\n",
      "Cluster 0:\n",
      "Label: pizzarestaurants\n",
      "\n",
      "Cluster 2:\n",
      "Label: chineserestaurants\n",
      "\n",
      "Cluster 3:\n",
      "Label: sandwichesrestaurants\n",
      "\n",
      "Cluster 4:\n",
      "Label: sushibarsjapaneserestaurants\n",
      "\n"
     ]
    }
   ],
   "source": [
    "cluster_label = defaultdict(list)\n",
    "print('Top restarant for each cluster: ')\n",
    "for restaurant in top_restaurant:\n",
    "    cluster_label[rate_dict[restaurant][1]].append(restaurant)\n",
    "for cluster in cluster_label:\n",
    "    print(f'Cluster {cluster}:')\n",
    "    print(f'Label: {cluster_label[cluster][0]}')\n",
    "    print()"
   ]
  },
  {
   "cell_type": "code",
   "execution_count": 142,
   "metadata": {},
   "outputs": [
    {
     "data": {
      "image/png": "[encoded data removed]",
      "text/plain": [
       "<Figure size 432x288 with 1 Axes>"
      ]
     },
     "metadata": {},
     "output_type": "display_data"
    }
   ],
   "source": [
    "plt.scatter(X[y_problem1 == 0, 0], X[y_problem1 == 0, 1], s = 10, c = 'r', label = 'Pizza')\n",
    "plt.scatter(X[y_problem1 == 1, 0], X[y_problem1 == 1, 1], s = 10, c = 'b', label = 'Mexican')\n",
    "plt.scatter(X[y_problem1 == 2, 0], X[y_problem1 == 2, 1], s = 10, c = 'g', label = 'Chinese')\n",
    "plt.scatter(X[y_problem1 == 3, 0], X[y_problem1 == 3, 1], s = 10, c = 'c', label = 'Sandwiches')\n",
    "plt.scatter(X[y_problem1 == 4, 0], X[y_problem1 == 4, 1], s = 10, c = 'm', label = 'Sushibars Japanese')\n",
    "#Plotting the centroids of the clusters\n",
    "plt.scatter(kmeans.cluster_centers_[:, 0], kmeans.cluster_centers_[:,1], s = 100, c = 'yellow', label = 'Centroids')\n",
    "plt.xlabel('latitude')\n",
    "plt.ylabel('longitude')\n",
    "plt.title('The cluster result for scaled latitude/longitude')\n",
    "plt.legend()\n",
    "plt.show()"
   ]
  },
  {
   "cell_type": "markdown",
   "metadata": {},
   "source": [
    "## <span style=\"text-decoration:underline;\">Problem 2</span>: Outliers and Unsupervised Clustering"
   ]
  },
  {
   "cell_type": "markdown",
   "metadata": {},
   "source": [
    "**<span style=\"text-decoration:underline;\">Part A</span> (15 points):** Detect the top five outliers for each cluster that you generated in Problem 1. These are the restaurants that are the farthest from the centroids of their clusters."
   ]
  },
  {
   "cell_type": "markdown",
   "metadata": {},
   "source": [
    "1. The idea is to calculate the euclidean distances between each point and the cluster center and find the farthest 5 points within each cluster. Meanwhile, save the scaled latitude and longitude of outliers."
   ]
  },
  {
   "cell_type": "code",
   "execution_count": 87,
   "metadata": {},
   "outputs": [],
   "source": [
    "from sklearn.metrics.pairwise import euclidean_distances\n",
    "\n",
    "def find_outlier_location(X, y):\n",
    "    outliers_location = {}\n",
    "    for i in range(5):\n",
    "        data = X[y == i]\n",
    "        centroid = kmeans.cluster_centers_[i]\n",
    "        distance = euclidean_distances(data, [centroid]).flatten()\n",
    "        top_5_idx = (np.argsort(distance))[-5:][::-1]\n",
    "        top_5_values = np.array([data[i] for i in top_5_idx])\n",
    "        outliers_location[i] = minmax_scale.inverse_transform(top_5_values[:, :2])\n",
    "    return outliers_location\n",
    "outliers_location = find_outlier_location(X, y_problem1)"
   ]
  },
  {
   "cell_type": "markdown",
   "metadata": {},
   "source": [
    "2. Find the business_id of each outliers by match the \"latitude\" value."
   ]
  },
  {
   "cell_type": "code",
   "execution_count": 88,
   "metadata": {},
   "outputs": [
    {
     "name": "stdout",
     "output_type": "stream",
     "text": [
      "Cluster 0:\n",
      "\n",
      " Outlier 0 business_id:\n",
      " 41449    jSDLdzm7ZbMWL3g3D2GU9w\n",
      "\n",
      " Outlier 1 business_id:\n",
      " 10074    uybZVwl43IwaKAeRqkb3Zg\n",
      "\n",
      " Outlier 2 business_id:\n",
      " 51137    Klb2mXlUHuSTyN3CkgZ0EA\n",
      "\n",
      " Outlier 3 business_id:\n",
      " 42911    WzEceFzuqAbhxhC6G0HXiQ\n",
      "\n",
      " Outlier 4 business_id:\n",
      " 64795    J8iQeK-3yL2R0UdXJsU8zw\n",
      "\n",
      "Cluster 1:\n",
      "\n",
      " Outlier 0 business_id:\n",
      " 27878    zE8tWlS_MmPAIF3vTIgKDA\n",
      "\n",
      " Outlier 1 business_id:\n",
      " 50818    hOoVmw1bS-aSvOJKenDRCA\n",
      "\n",
      " Outlier 2 business_id:\n",
      " 17444    _SdixbXjvpCIMln7_sgDfg\n",
      "\n",
      " Outlier 3 business_id:\n",
      " 26217    jg-d4xhw8SiqpU8xEB1jNg\n",
      "\n",
      " Outlier 4 business_id:\n",
      " 38971    J_Z_XLjhhtTNOupOwemDqg\n",
      "\n",
      "Cluster 2:\n",
      "\n",
      " Outlier 0 business_id:\n",
      " 43759    1dAA6vT55o35XZT3DV4hSA\n",
      "\n",
      " Outlier 1 business_id:\n",
      " 55720    2Y6zErXWajSN7vaJaPHcEw\n",
      "\n",
      " Outlier 2 business_id:\n",
      " 41984    Ol2U3ingyNQENmVofvxW_Q\n",
      "\n",
      " Outlier 3 business_id:\n",
      " 36361    EUmfOpiQxJ5yaEMypI30gQ\n",
      "\n",
      " Outlier 4 business_id:\n",
      " 30771    l3FM8f22YKXnWjsb9rejvQ\n",
      "\n",
      "Cluster 3:\n",
      "\n",
      " Outlier 0 business_id:\n",
      " 69639    V971TUTl5o1cxTsIhV7h6Q\n",
      "\n",
      " Outlier 1 business_id:\n",
      " 47419    eG_GtDLVZ6vSSMYk4eDeFA\n",
      "\n",
      " Outlier 2 business_id:\n",
      " 31133    eF3ckn8vFfP73cOZRDFykw\n",
      "\n",
      " Outlier 3 business_id:\n",
      " 24851    HudJ7VDcaxrdPbrWU67eJg\n",
      "\n",
      " Outlier 4 business_id:\n",
      " 47182    3HKp4duvN8lug3ydLHdP6g\n",
      "\n",
      "Cluster 4:\n",
      "\n",
      " Outlier 0 business_id:\n",
      " 38914    qCDUldhRjpbAtiU7WsMCdA\n",
      "\n",
      " Outlier 1 business_id:\n",
      " 10136    tJvUgjY7dJhCunOC10tKpg\n",
      "\n",
      " Outlier 2 business_id:\n",
      " 66211    -1ERbsOf9XOC9wGbZYFr7g\n",
      "\n",
      " Outlier 3 business_id:\n",
      " 31103    r6UzCUbllqkkc9BSV7Vodg\n",
      "\n",
      " Outlier 4 business_id:\n",
      " 42361    kEaQt6G55MvXh1OW-1VCzQ\n",
      "\n"
     ]
    }
   ],
   "source": [
    "def find_outlier_business_id(outliers_location, top_business_df):\n",
    "    outliers_business_id = defaultdict(list)\n",
    "    for cluster in outliers_location:\n",
    "        print(f'Cluster {cluster}:')\n",
    "        print()\n",
    "        for i in range(5):\n",
    "            print(f' Outlier {i} business_id:')\n",
    "            latitude = outliers_location[cluster][i][0]\n",
    "            longitude = outliers_location[cluster][i][1]\n",
    "            outlier_df = top_business_df[(top_business_df['latitude']==latitude)]\n",
    "            outliers_business_id[cluster].append(outlier_df['business_id'].to_string())\n",
    "            print(f' {outlier_df.business_id.to_string()}')\n",
    "            print()\n",
    "    return outliers_business_id\n",
    "outliers_business_id = find_outlier_business_id(outliers_location, top_business_df)"
   ]
  },
  {
   "cell_type": "markdown",
   "metadata": {},
   "source": [
    "**<span style=\"text-decoration:underline;\">Part B</span> (35 points):** Cluster the restaurants using the text of the restaurant reviews (rather than the categories) in an unsupervised fashion. Use the document-term matrix approach and tf-idf. Finally, use one cluster comparison metric to compare your results from Problem 1 to your unsupervised clustering results from Problem 2."
   ]
  },
  {
   "cell_type": "markdown",
   "metadata": {},
   "source": [
    "#### 1. Read the yelp_academic_dataset_review.json file"
   ]
  },
  {
   "cell_type": "code",
   "execution_count": 7,
   "metadata": {},
   "outputs": [
    {
     "name": "stdout",
     "output_type": "stream",
     "text": [
      "/Users/minzhou/Desktop/CS506/cs506-f18-a2-minzhou1003/yelp_dataset_challenge_academic_dataset/yelp_academic_dataset_review.json\n"
     ]
    }
   ],
   "source": [
    "review_data_path = os.path.join(current_path, data_set_folder, 'yelp_academic_dataset_review.json')\n",
    "print(review_data_path)\n",
    "df_review = pd.read_json(review_data_path, lines=True)"
   ]
  },
  {
   "cell_type": "code",
   "execution_count": 8,
   "metadata": {},
   "outputs": [],
   "source": [
    "business_id = top_business_df['business_id']\n",
    "top_restaurant_review = df_review[df_review['business_id'].isin(business_id)]"
   ]
  },
  {
   "cell_type": "code",
   "execution_count": 9,
   "metadata": {},
   "outputs": [],
   "source": [
    "top_restaurant_review = top_restaurant_review[['business_id', 'text']]"
   ]
  },
  {
   "cell_type": "markdown",
   "metadata": {},
   "source": [
    "#### 2. Merge two dataframe"
   ]
  },
  {
   "cell_type": "markdown",
   "metadata": {},
   "source": [
    "Before merging two dataframes, join the review text for each restarurant."
   ]
  },
  {
   "cell_type": "code",
   "execution_count": 10,
   "metadata": {},
   "outputs": [],
   "source": [
    "text_dict = {}\n",
    "for buss_id in business_id:\n",
    "    temp_df = top_restaurant_review[top_restaurant_review['business_id'] == buss_id].text\n",
    "    text_dict[buss_id] = ' '.join(temp_df)"
   ]
  },
  {
   "cell_type": "code",
   "execution_count": 26,
   "metadata": {},
   "outputs": [],
   "source": [
    "review_df = pd.Series(text_dict, name='text')"
   ]
  },
  {
   "cell_type": "code",
   "execution_count": 27,
   "metadata": {},
   "outputs": [],
   "source": [
    "review_df.index.name = 'business_id'\n",
    "review_df = review_df.reset_index()"
   ]
  },
  {
   "cell_type": "code",
   "execution_count": 25,
   "metadata": {},
   "outputs": [
    {
     "data": {
      "text/html": [
       "<div>\n",
       "<style scoped>\n",
       "    .dataframe tbody tr th:only-of-type {\n",
       "        vertical-align: middle;\n",
       "    }\n",
       "\n",
       "    .dataframe tbody tr th {\n",
       "        vertical-align: top;\n",
       "    }\n",
       "\n",
       "    .dataframe thead th {\n",
       "        text-align: right;\n",
       "    }\n",
       "</style>\n",
       "<table border=\"1\" class=\"dataframe\">\n",
       "  <thead>\n",
       "    <tr style=\"text-align: right;\">\n",
       "      <th></th>\n",
       "      <th>business_id</th>\n",
       "      <th>latitude</th>\n",
       "      <th>longitude</th>\n",
       "      <th>category</th>\n",
       "      <th>text</th>\n",
       "    </tr>\n",
       "  </thead>\n",
       "  <tbody>\n",
       "    <tr>\n",
       "      <th>0</th>\n",
       "      <td>AgtFQVxo-PGQVsOdY6Nvdg</td>\n",
       "      <td>35.999205</td>\n",
       "      <td>-115.107474</td>\n",
       "      <td>PizzaRestaurants</td>\n",
       "      <td>I hadn't had Pizza Hut in years!  My dad just ...</td>\n",
       "    </tr>\n",
       "    <tr>\n",
       "      <th>1</th>\n",
       "      <td>AFDFOs2GaIyUArGyEUDQzQ</td>\n",
       "      <td>36.125908</td>\n",
       "      <td>-115.197904</td>\n",
       "      <td>ChineseRestaurants</td>\n",
       "      <td>This place has excellent pan fried Sea Bass.  ...</td>\n",
       "    </tr>\n",
       "    <tr>\n",
       "      <th>2</th>\n",
       "      <td>R5e2XWtpa_CA77MIXEyCTg</td>\n",
       "      <td>36.130335</td>\n",
       "      <td>-115.206002</td>\n",
       "      <td>FastFoodSandwichesRestaurants</td>\n",
       "      <td>This Subway and the company really suck.  Don'...</td>\n",
       "    </tr>\n",
       "    <tr>\n",
       "      <th>3</th>\n",
       "      <td>pCobXgTy6DIfBaT4pjlq0w</td>\n",
       "      <td>36.143326</td>\n",
       "      <td>-115.206316</td>\n",
       "      <td>SandwichesRestaurants</td>\n",
       "      <td>love the schmears. love the new breakfast bage...</td>\n",
       "    </tr>\n",
       "    <tr>\n",
       "      <th>4</th>\n",
       "      <td>V8id7mkt3nJYOD_HthEn1w</td>\n",
       "      <td>36.145191</td>\n",
       "      <td>-115.192593</td>\n",
       "      <td>ChineseRestaurants</td>\n",
       "      <td>I order takeout from this particular China Joe...</td>\n",
       "    </tr>\n",
       "    <tr>\n",
       "      <th>5</th>\n",
       "      <td>9-O8qKGQQCYXdBlj4iv7bw</td>\n",
       "      <td>36.144676</td>\n",
       "      <td>-115.175041</td>\n",
       "      <td>RestaurantsItalian</td>\n",
       "      <td>We all have those special places we like to de...</td>\n",
       "    </tr>\n",
       "    <tr>\n",
       "      <th>6</th>\n",
       "      <td>A2aVN_Yw3xDz4x7gGtmYog</td>\n",
       "      <td>36.146282</td>\n",
       "      <td>-115.190504</td>\n",
       "      <td>MexicanRestaurants</td>\n",
       "      <td>This place occupies an old FARM BASKET so it l...</td>\n",
       "    </tr>\n",
       "    <tr>\n",
       "      <th>7</th>\n",
       "      <td>N2tjtB2hb0rrEQM9503qEg</td>\n",
       "      <td>36.149789</td>\n",
       "      <td>-115.207595</td>\n",
       "      <td>FastFoodSandwichesRestaurants</td>\n",
       "      <td>I tried to eat here today, but they appeared u...</td>\n",
       "    </tr>\n",
       "    <tr>\n",
       "      <th>8</th>\n",
       "      <td>pNqHRWlrbh71zbPZNd7_2g</td>\n",
       "      <td>36.126613</td>\n",
       "      <td>-115.207050</td>\n",
       "      <td>ChineseRestaurants</td>\n",
       "      <td>this place is located in the corner of a strip...</td>\n",
       "    </tr>\n",
       "    <tr>\n",
       "      <th>9</th>\n",
       "      <td>idvjjh3yCDu7Hupzl89iQw</td>\n",
       "      <td>36.144081</td>\n",
       "      <td>-115.194348</td>\n",
       "      <td>FastFoodRestaurants</td>\n",
       "      <td>this is the only stand-alone hot dog place in ...</td>\n",
       "    </tr>\n",
       "    <tr>\n",
       "      <th>10</th>\n",
       "      <td>UVZ5auVZrbvgJ0VbWW_P8Q</td>\n",
       "      <td>36.143974</td>\n",
       "      <td>-115.184269</td>\n",
       "      <td>PizzaRestaurants</td>\n",
       "      <td>Everytime I eat at pizza hut/wingstreet I'm al...</td>\n",
       "    </tr>\n",
       "    <tr>\n",
       "      <th>11</th>\n",
       "      <td>SvS58LlrEMHjSwJmpJNKGA</td>\n",
       "      <td>36.159091</td>\n",
       "      <td>-115.172108</td>\n",
       "      <td>SandwichesRestaurants</td>\n",
       "      <td>My favorite sub shop...the original starting o...</td>\n",
       "    </tr>\n",
       "    <tr>\n",
       "      <th>12</th>\n",
       "      <td>Vkm6ZWlPhIioFk6xiypSjg</td>\n",
       "      <td>36.125431</td>\n",
       "      <td>-115.196966</td>\n",
       "      <td>ChineseRestaurants</td>\n",
       "      <td>If I'm correct, this is the open restaurant in...</td>\n",
       "    </tr>\n",
       "    <tr>\n",
       "      <th>13</th>\n",
       "      <td>4qHd6e7kAL9dszYrQUkjLg</td>\n",
       "      <td>36.143114</td>\n",
       "      <td>-115.208505</td>\n",
       "      <td>AmericanTraditionalRestaurants</td>\n",
       "      <td>I understand a burger joint probably is likely...</td>\n",
       "    </tr>\n",
       "    <tr>\n",
       "      <th>14</th>\n",
       "      <td>-NXDZfqwfZ9OWba180HqFw</td>\n",
       "      <td>36.144725</td>\n",
       "      <td>-115.191611</td>\n",
       "      <td>MexicanRestaurants</td>\n",
       "      <td>This is my favorite taco joint in Vegas...if y...</td>\n",
       "    </tr>\n",
       "    <tr>\n",
       "      <th>15</th>\n",
       "      <td>4UVhuOLaMm2-34SrW8y-ag</td>\n",
       "      <td>36.125908</td>\n",
       "      <td>-115.197904</td>\n",
       "      <td>JapaneseRestaurants</td>\n",
       "      <td>this is by far one of my most favorite restaur...</td>\n",
       "    </tr>\n",
       "    <tr>\n",
       "      <th>16</th>\n",
       "      <td>PTbikfcSHR1dTze0EJQMlA</td>\n",
       "      <td>36.145727</td>\n",
       "      <td>-115.190329</td>\n",
       "      <td>PizzaRestaurants</td>\n",
       "      <td>This sucks. I am still sitting inside Villa Pi...</td>\n",
       "    </tr>\n",
       "    <tr>\n",
       "      <th>17</th>\n",
       "      <td>MR3-Ll-hoUGZMA-B1MTgGQ</td>\n",
       "      <td>36.158590</td>\n",
       "      <td>-115.164933</td>\n",
       "      <td>BurgersFastFoodRestaurants</td>\n",
       "      <td>This Wendy's is REALLY SLOW at getting food ou...</td>\n",
       "    </tr>\n",
       "    <tr>\n",
       "      <th>18</th>\n",
       "      <td>0EZ3j0POS4FC5zYjUDU4Cg</td>\n",
       "      <td>36.102015</td>\n",
       "      <td>-115.296532</td>\n",
       "      <td>JapaneseRestaurants</td>\n",
       "      <td>Some of you may remember Sushi House Manda fro...</td>\n",
       "    </tr>\n",
       "    <tr>\n",
       "      <th>19</th>\n",
       "      <td>YZuHOgbKiP3dN4_ROOUyDQ</td>\n",
       "      <td>36.144093</td>\n",
       "      <td>-115.161143</td>\n",
       "      <td>SteakhousesRestaurants</td>\n",
       "      <td>They say that you shouldn't judge a book by it...</td>\n",
       "    </tr>\n",
       "    <tr>\n",
       "      <th>20</th>\n",
       "      <td>sewf0n2bOKcKTvy2Xo1H8g</td>\n",
       "      <td>36.159216</td>\n",
       "      <td>-115.161971</td>\n",
       "      <td>BurgersFastFoodRestaurants</td>\n",
       "      <td>My name is Cher and I'm addicted to the Jalape...</td>\n",
       "    </tr>\n",
       "    <tr>\n",
       "      <th>21</th>\n",
       "      <td>Yin_BwfzTOdC8VY9ZD4K6w</td>\n",
       "      <td>36.144129</td>\n",
       "      <td>-115.161461</td>\n",
       "      <td>SandwichesRestaurants</td>\n",
       "      <td>If you're looking for a cheap, filling lunch, ...</td>\n",
       "    </tr>\n",
       "    <tr>\n",
       "      <th>22</th>\n",
       "      <td>pj0vl4DIlDCChe80Df40Yw</td>\n",
       "      <td>36.149789</td>\n",
       "      <td>-115.207595</td>\n",
       "      <td>ChineseRestaurants</td>\n",
       "      <td>Horrible unfriendly service but great food!  T...</td>\n",
       "    </tr>\n",
       "    <tr>\n",
       "      <th>23</th>\n",
       "      <td>MI0OfnmlfkUh2xPhT1lQSg</td>\n",
       "      <td>36.158992</td>\n",
       "      <td>-115.202640</td>\n",
       "      <td>ChineseRestaurants</td>\n",
       "      <td>This buffet has ok tasting food until one frig...</td>\n",
       "    </tr>\n",
       "    <tr>\n",
       "      <th>24</th>\n",
       "      <td>FkXmvdpccuMFfNI6zgmXEA</td>\n",
       "      <td>36.145043</td>\n",
       "      <td>-115.207615</td>\n",
       "      <td>FastFoodMexicanRestaurants</td>\n",
       "      <td>This chicken chain is awesome.\\nThe quality an...</td>\n",
       "    </tr>\n",
       "    <tr>\n",
       "      <th>25</th>\n",
       "      <td>BhYS6Vo44NnZZDoJdWLMmw</td>\n",
       "      <td>36.158989</td>\n",
       "      <td>-115.202086</td>\n",
       "      <td>PizzaRestaurants</td>\n",
       "      <td>You get what you pay for... $5 made pizzas are...</td>\n",
       "    </tr>\n",
       "    <tr>\n",
       "      <th>26</th>\n",
       "      <td>Bs7FcmlfHfCq2lf-FUKLCw</td>\n",
       "      <td>36.145040</td>\n",
       "      <td>-115.204936</td>\n",
       "      <td>FastFoodMexicanRestaurants</td>\n",
       "      <td>This Roberto's is a very clean location, but i...</td>\n",
       "    </tr>\n",
       "    <tr>\n",
       "      <th>27</th>\n",
       "      <td>UsZ9ZvDh8Fo5mZeKs4w9mg</td>\n",
       "      <td>36.148658</td>\n",
       "      <td>-115.209813</td>\n",
       "      <td>MexicanRestaurants</td>\n",
       "      <td>I found a 2/1 coupon in the print edition of t...</td>\n",
       "    </tr>\n",
       "    <tr>\n",
       "      <th>28</th>\n",
       "      <td>V3S6RpKgYc5XCLjgI9JeeQ</td>\n",
       "      <td>36.144025</td>\n",
       "      <td>-115.193877</td>\n",
       "      <td>ChineseRestaurants</td>\n",
       "      <td>I have been going to this place since the earl...</td>\n",
       "    </tr>\n",
       "    <tr>\n",
       "      <th>29</th>\n",
       "      <td>dR-Zz3l3ws-P08dI6F8Zew</td>\n",
       "      <td>36.144013</td>\n",
       "      <td>-115.193147</td>\n",
       "      <td>ThaiRestaurants</td>\n",
       "      <td>My Bestie's fam used to own Royal Thai.....\\nj...</td>\n",
       "    </tr>\n",
       "    <tr>\n",
       "      <th>...</th>\n",
       "      <td>...</td>\n",
       "      <td>...</td>\n",
       "      <td>...</td>\n",
       "      <td>...</td>\n",
       "      <td>...</td>\n",
       "    </tr>\n",
       "    <tr>\n",
       "      <th>1845</th>\n",
       "      <td>LoIYagcbbQ1lz_p1VDS5KA</td>\n",
       "      <td>36.108911</td>\n",
       "      <td>-115.172150</td>\n",
       "      <td>AmericanTraditionalRestaurants</td>\n",
       "      <td>Waitresses are horrible, extremely slow and ev...</td>\n",
       "    </tr>\n",
       "    <tr>\n",
       "      <th>1846</th>\n",
       "      <td>YfFYOi7y1eXQpoT0FhAWKg</td>\n",
       "      <td>36.158552</td>\n",
       "      <td>-115.122966</td>\n",
       "      <td>BurgersFastFoodRestaurants</td>\n",
       "      <td>Fast food is sometimes Meh... But it is what i...</td>\n",
       "    </tr>\n",
       "    <tr>\n",
       "      <th>1847</th>\n",
       "      <td>ZVrfWy0ho5rU6Z4hC94SFw</td>\n",
       "      <td>36.125929</td>\n",
       "      <td>-115.197631</td>\n",
       "      <td>ChineseRestaurants</td>\n",
       "      <td>We ordered an order of Potstickers, Beef Pocke...</td>\n",
       "    </tr>\n",
       "    <tr>\n",
       "      <th>1848</th>\n",
       "      <td>6jzuGVc_QICK3s6yKu9MKw</td>\n",
       "      <td>36.125908</td>\n",
       "      <td>-115.197904</td>\n",
       "      <td>ChineseRestaurants</td>\n",
       "      <td>Have been here several times since I know it. ...</td>\n",
       "    </tr>\n",
       "    <tr>\n",
       "      <th>1849</th>\n",
       "      <td>O9LyFSGpAedB8RQUWh_ang</td>\n",
       "      <td>36.108662</td>\n",
       "      <td>-115.172141</td>\n",
       "      <td>AmericanNewRestaurants</td>\n",
       "      <td>I was so surprised when I saw that the old loc...</td>\n",
       "    </tr>\n",
       "    <tr>\n",
       "      <th>1850</th>\n",
       "      <td>wcnOToLkOrxynG18ezVfhg</td>\n",
       "      <td>36.024326</td>\n",
       "      <td>-115.172926</td>\n",
       "      <td>MexicanRestaurants</td>\n",
       "      <td>Coming in before the rude reviews\\nI love it h...</td>\n",
       "    </tr>\n",
       "    <tr>\n",
       "      <th>1851</th>\n",
       "      <td>sKlgXu6uY0nXp9LudsjfoA</td>\n",
       "      <td>36.159570</td>\n",
       "      <td>-115.230298</td>\n",
       "      <td>ThaiRestaurants</td>\n",
       "      <td>Found this little gem after going to Dick Blic...</td>\n",
       "    </tr>\n",
       "    <tr>\n",
       "      <th>1852</th>\n",
       "      <td>iRS9SBAAMZ_ByqOYBxQ7LA</td>\n",
       "      <td>36.144296</td>\n",
       "      <td>-115.162692</td>\n",
       "      <td>ChineseRestaurants</td>\n",
       "      <td>This place serves unbelievable Hainin chicken ...</td>\n",
       "    </tr>\n",
       "    <tr>\n",
       "      <th>1853</th>\n",
       "      <td>3kYwCIFa5LHM10snNQ4lmQ</td>\n",
       "      <td>36.127039</td>\n",
       "      <td>-115.198749</td>\n",
       "      <td>SushiBarsJapaneseRestaurants</td>\n",
       "      <td>If it weren't for the service, we would give t...</td>\n",
       "    </tr>\n",
       "    <tr>\n",
       "      <th>1854</th>\n",
       "      <td>ko_WxEFwhcIO_6DfrsmNJg</td>\n",
       "      <td>36.043263</td>\n",
       "      <td>-115.150276</td>\n",
       "      <td>PizzaRestaurants</td>\n",
       "      <td>Best pizza in this area. Workers are friendly ...</td>\n",
       "    </tr>\n",
       "    <tr>\n",
       "      <th>1855</th>\n",
       "      <td>oy90Dd3UjsyAmj_lxSda5g</td>\n",
       "      <td>36.106504</td>\n",
       "      <td>-115.297941</td>\n",
       "      <td>PizzaRestaurants</td>\n",
       "      <td>Great pizza !!!!!\\nWhat's great is they sell p...</td>\n",
       "    </tr>\n",
       "    <tr>\n",
       "      <th>1856</th>\n",
       "      <td>Fxa33c46loYufI_rYKF5GA</td>\n",
       "      <td>36.159932</td>\n",
       "      <td>-115.222205</td>\n",
       "      <td>SushiBarsJapaneseRestaurants</td>\n",
       "      <td>The Japanese chef, Hiro, opened his own restau...</td>\n",
       "    </tr>\n",
       "    <tr>\n",
       "      <th>1857</th>\n",
       "      <td>xpaR2eDws2Ubns6nUVakeA</td>\n",
       "      <td>36.151857</td>\n",
       "      <td>-115.151595</td>\n",
       "      <td>MexicanRestaurants</td>\n",
       "      <td>Worst  service ever will never come back i ord...</td>\n",
       "    </tr>\n",
       "    <tr>\n",
       "      <th>1858</th>\n",
       "      <td>_44__hQ4GxGNRzkhLHBw0A</td>\n",
       "      <td>36.107226</td>\n",
       "      <td>-115.173768</td>\n",
       "      <td>RestaurantsItalian</td>\n",
       "      <td>So good. So good. So good. Best Italian I've h...</td>\n",
       "    </tr>\n",
       "    <tr>\n",
       "      <th>1859</th>\n",
       "      <td>NXQkGFnc5P9xZamOxCrz6w</td>\n",
       "      <td>36.196944</td>\n",
       "      <td>-115.262118</td>\n",
       "      <td>RestaurantsItalian</td>\n",
       "      <td>Just opened today and the food is fresh and au...</td>\n",
       "    </tr>\n",
       "    <tr>\n",
       "      <th>1860</th>\n",
       "      <td>p_ruH6bwGDzIuelvJ5w1mQ</td>\n",
       "      <td>36.145418</td>\n",
       "      <td>-115.334235</td>\n",
       "      <td>MexicanRestaurants</td>\n",
       "      <td>Beautifully themed restaurant but the prices a...</td>\n",
       "    </tr>\n",
       "    <tr>\n",
       "      <th>1861</th>\n",
       "      <td>GDmDuA11pKCRYmLa_vOe3Q</td>\n",
       "      <td>36.126786</td>\n",
       "      <td>-115.224101</td>\n",
       "      <td>ChineseRestaurants</td>\n",
       "      <td>The seafood is always delicious ! Love this ne...</td>\n",
       "    </tr>\n",
       "    <tr>\n",
       "      <th>1862</th>\n",
       "      <td>cDqPv5gS41ZmZIh3oJ_HfA</td>\n",
       "      <td>36.160214</td>\n",
       "      <td>-115.321554</td>\n",
       "      <td>ChineseRestaurants</td>\n",
       "      <td>I still miss the old China Tango before the ma...</td>\n",
       "    </tr>\n",
       "    <tr>\n",
       "      <th>1863</th>\n",
       "      <td>UVfwIT8uLS0_SDifp9NifQ</td>\n",
       "      <td>36.128143</td>\n",
       "      <td>-115.314572</td>\n",
       "      <td>MexicanRestaurants</td>\n",
       "      <td>Always a fan of their breakfast burritos. Grea...</td>\n",
       "    </tr>\n",
       "    <tr>\n",
       "      <th>1864</th>\n",
       "      <td>c8b7niizd3jigDlq-z_E6Q</td>\n",
       "      <td>36.144023</td>\n",
       "      <td>-115.195896</td>\n",
       "      <td>ThaiRestaurants</td>\n",
       "      <td>This is our first time here.. The service is g...</td>\n",
       "    </tr>\n",
       "    <tr>\n",
       "      <th>1865</th>\n",
       "      <td>xIUWIc8eJsQPRuHD0RDrIA</td>\n",
       "      <td>36.161205</td>\n",
       "      <td>-115.145457</td>\n",
       "      <td>PizzaRestaurants</td>\n",
       "      <td>This is great tasting pizza. I'm from the east...</td>\n",
       "    </tr>\n",
       "    <tr>\n",
       "      <th>1866</th>\n",
       "      <td>oWrE_vMARvRVbf0jjeIrTw</td>\n",
       "      <td>36.098371</td>\n",
       "      <td>-115.148566</td>\n",
       "      <td>MexicanRestaurants</td>\n",
       "      <td>How to sum up this place with one word \"Delici...</td>\n",
       "    </tr>\n",
       "    <tr>\n",
       "      <th>1867</th>\n",
       "      <td>ZdQzmtUJ8TgPhN58u3z-2g</td>\n",
       "      <td>36.142449</td>\n",
       "      <td>-115.268677</td>\n",
       "      <td>PizzaRestaurants</td>\n",
       "      <td>Papa Pinny's has the best pizza I have tasted ...</td>\n",
       "    </tr>\n",
       "    <tr>\n",
       "      <th>1868</th>\n",
       "      <td>C-evrHe6XX0O0QLXbVmKmg</td>\n",
       "      <td>35.998741</td>\n",
       "      <td>-115.205507</td>\n",
       "      <td>FastFoodMexicanRestaurants</td>\n",
       "      <td>Horrible.... Won't do this again until they ar...</td>\n",
       "    </tr>\n",
       "    <tr>\n",
       "      <th>1869</th>\n",
       "      <td>QE-IU_Is1a-3iXacdBWDgA</td>\n",
       "      <td>36.055906</td>\n",
       "      <td>-115.116348</td>\n",
       "      <td>PizzaRestaurants</td>\n",
       "      <td>Absolutely love having a Rosati's so close by....</td>\n",
       "    </tr>\n",
       "    <tr>\n",
       "      <th>1870</th>\n",
       "      <td>pbUoXNUIs0nQMGncVKtEjw</td>\n",
       "      <td>36.039781</td>\n",
       "      <td>-115.190902</td>\n",
       "      <td>MexicanRestaurants</td>\n",
       "      <td>OK so I just had a meal..  everything was grea...</td>\n",
       "    </tr>\n",
       "    <tr>\n",
       "      <th>1871</th>\n",
       "      <td>1s6YBE96-tRIdOFU8humaA</td>\n",
       "      <td>36.142969</td>\n",
       "      <td>-115.280103</td>\n",
       "      <td>RestaurantsItalian</td>\n",
       "      <td>Chef Marc Sgrizzi has once again outdone himse...</td>\n",
       "    </tr>\n",
       "    <tr>\n",
       "      <th>1872</th>\n",
       "      <td>VpAQ2sr-VzcT7j7MByW53w</td>\n",
       "      <td>36.060256</td>\n",
       "      <td>-115.278746</td>\n",
       "      <td>MexicanRestaurants</td>\n",
       "      <td>This is the brand new Cafe Rio right of 215 be...</td>\n",
       "    </tr>\n",
       "    <tr>\n",
       "      <th>1873</th>\n",
       "      <td>89Nesr_PBYwn0lu3AiJMWg</td>\n",
       "      <td>36.143945</td>\n",
       "      <td>-115.064099</td>\n",
       "      <td>MexicanRestaurants</td>\n",
       "      <td>This place us absolutely amazing.. The tamales...</td>\n",
       "    </tr>\n",
       "    <tr>\n",
       "      <th>1874</th>\n",
       "      <td>g4_7pOA-6uO19l2S2Tl2Pw</td>\n",
       "      <td>36.128745</td>\n",
       "      <td>-115.164242</td>\n",
       "      <td>AmericanTraditionalRestaurants</td>\n",
       "      <td>Great new dining spot located right next to XS...</td>\n",
       "    </tr>\n",
       "  </tbody>\n",
       "</table>\n",
       "<p>1875 rows × 5 columns</p>\n",
       "</div>"
      ],
      "text/plain": [
       "                 business_id   latitude   longitude  \\\n",
       "0     AgtFQVxo-PGQVsOdY6Nvdg  35.999205 -115.107474   \n",
       "1     AFDFOs2GaIyUArGyEUDQzQ  36.125908 -115.197904   \n",
       "2     R5e2XWtpa_CA77MIXEyCTg  36.130335 -115.206002   \n",
       "3     pCobXgTy6DIfBaT4pjlq0w  36.143326 -115.206316   \n",
       "4     V8id7mkt3nJYOD_HthEn1w  36.145191 -115.192593   \n",
       "5     9-O8qKGQQCYXdBlj4iv7bw  36.144676 -115.175041   \n",
       "6     A2aVN_Yw3xDz4x7gGtmYog  36.146282 -115.190504   \n",
       "7     N2tjtB2hb0rrEQM9503qEg  36.149789 -115.207595   \n",
       "8     pNqHRWlrbh71zbPZNd7_2g  36.126613 -115.207050   \n",
       "9     idvjjh3yCDu7Hupzl89iQw  36.144081 -115.194348   \n",
       "10    UVZ5auVZrbvgJ0VbWW_P8Q  36.143974 -115.184269   \n",
       "11    SvS58LlrEMHjSwJmpJNKGA  36.159091 -115.172108   \n",
       "12    Vkm6ZWlPhIioFk6xiypSjg  36.125431 -115.196966   \n",
       "13    4qHd6e7kAL9dszYrQUkjLg  36.143114 -115.208505   \n",
       "14    -NXDZfqwfZ9OWba180HqFw  36.144725 -115.191611   \n",
       "15    4UVhuOLaMm2-34SrW8y-ag  36.125908 -115.197904   \n",
       "16    PTbikfcSHR1dTze0EJQMlA  36.145727 -115.190329   \n",
       "17    MR3-Ll-hoUGZMA-B1MTgGQ  36.158590 -115.164933   \n",
       "18    0EZ3j0POS4FC5zYjUDU4Cg  36.102015 -115.296532   \n",
       "19    YZuHOgbKiP3dN4_ROOUyDQ  36.144093 -115.161143   \n",
       "20    sewf0n2bOKcKTvy2Xo1H8g  36.159216 -115.161971   \n",
       "21    Yin_BwfzTOdC8VY9ZD4K6w  36.144129 -115.161461   \n",
       "22    pj0vl4DIlDCChe80Df40Yw  36.149789 -115.207595   \n",
       "23    MI0OfnmlfkUh2xPhT1lQSg  36.158992 -115.202640   \n",
       "24    FkXmvdpccuMFfNI6zgmXEA  36.145043 -115.207615   \n",
       "25    BhYS6Vo44NnZZDoJdWLMmw  36.158989 -115.202086   \n",
       "26    Bs7FcmlfHfCq2lf-FUKLCw  36.145040 -115.204936   \n",
       "27    UsZ9ZvDh8Fo5mZeKs4w9mg  36.148658 -115.209813   \n",
       "28    V3S6RpKgYc5XCLjgI9JeeQ  36.144025 -115.193877   \n",
       "29    dR-Zz3l3ws-P08dI6F8Zew  36.144013 -115.193147   \n",
       "...                      ...        ...         ...   \n",
       "1845  LoIYagcbbQ1lz_p1VDS5KA  36.108911 -115.172150   \n",
       "1846  YfFYOi7y1eXQpoT0FhAWKg  36.158552 -115.122966   \n",
       "1847  ZVrfWy0ho5rU6Z4hC94SFw  36.125929 -115.197631   \n",
       "1848  6jzuGVc_QICK3s6yKu9MKw  36.125908 -115.197904   \n",
       "1849  O9LyFSGpAedB8RQUWh_ang  36.108662 -115.172141   \n",
       "1850  wcnOToLkOrxynG18ezVfhg  36.024326 -115.172926   \n",
       "1851  sKlgXu6uY0nXp9LudsjfoA  36.159570 -115.230298   \n",
       "1852  iRS9SBAAMZ_ByqOYBxQ7LA  36.144296 -115.162692   \n",
       "1853  3kYwCIFa5LHM10snNQ4lmQ  36.127039 -115.198749   \n",
       "1854  ko_WxEFwhcIO_6DfrsmNJg  36.043263 -115.150276   \n",
       "1855  oy90Dd3UjsyAmj_lxSda5g  36.106504 -115.297941   \n",
       "1856  Fxa33c46loYufI_rYKF5GA  36.159932 -115.222205   \n",
       "1857  xpaR2eDws2Ubns6nUVakeA  36.151857 -115.151595   \n",
       "1858  _44__hQ4GxGNRzkhLHBw0A  36.107226 -115.173768   \n",
       "1859  NXQkGFnc5P9xZamOxCrz6w  36.196944 -115.262118   \n",
       "1860  p_ruH6bwGDzIuelvJ5w1mQ  36.145418 -115.334235   \n",
       "1861  GDmDuA11pKCRYmLa_vOe3Q  36.126786 -115.224101   \n",
       "1862  cDqPv5gS41ZmZIh3oJ_HfA  36.160214 -115.321554   \n",
       "1863  UVfwIT8uLS0_SDifp9NifQ  36.128143 -115.314572   \n",
       "1864  c8b7niizd3jigDlq-z_E6Q  36.144023 -115.195896   \n",
       "1865  xIUWIc8eJsQPRuHD0RDrIA  36.161205 -115.145457   \n",
       "1866  oWrE_vMARvRVbf0jjeIrTw  36.098371 -115.148566   \n",
       "1867  ZdQzmtUJ8TgPhN58u3z-2g  36.142449 -115.268677   \n",
       "1868  C-evrHe6XX0O0QLXbVmKmg  35.998741 -115.205507   \n",
       "1869  QE-IU_Is1a-3iXacdBWDgA  36.055906 -115.116348   \n",
       "1870  pbUoXNUIs0nQMGncVKtEjw  36.039781 -115.190902   \n",
       "1871  1s6YBE96-tRIdOFU8humaA  36.142969 -115.280103   \n",
       "1872  VpAQ2sr-VzcT7j7MByW53w  36.060256 -115.278746   \n",
       "1873  89Nesr_PBYwn0lu3AiJMWg  36.143945 -115.064099   \n",
       "1874  g4_7pOA-6uO19l2S2Tl2Pw  36.128745 -115.164242   \n",
       "\n",
       "                            category  \\\n",
       "0                   PizzaRestaurants   \n",
       "1                 ChineseRestaurants   \n",
       "2      FastFoodSandwichesRestaurants   \n",
       "3              SandwichesRestaurants   \n",
       "4                 ChineseRestaurants   \n",
       "5                 RestaurantsItalian   \n",
       "6                 MexicanRestaurants   \n",
       "7      FastFoodSandwichesRestaurants   \n",
       "8                 ChineseRestaurants   \n",
       "9                FastFoodRestaurants   \n",
       "10                  PizzaRestaurants   \n",
       "11             SandwichesRestaurants   \n",
       "12                ChineseRestaurants   \n",
       "13    AmericanTraditionalRestaurants   \n",
       "14                MexicanRestaurants   \n",
       "15               JapaneseRestaurants   \n",
       "16                  PizzaRestaurants   \n",
       "17        BurgersFastFoodRestaurants   \n",
       "18               JapaneseRestaurants   \n",
       "19            SteakhousesRestaurants   \n",
       "20        BurgersFastFoodRestaurants   \n",
       "21             SandwichesRestaurants   \n",
       "22                ChineseRestaurants   \n",
       "23                ChineseRestaurants   \n",
       "24        FastFoodMexicanRestaurants   \n",
       "25                  PizzaRestaurants   \n",
       "26        FastFoodMexicanRestaurants   \n",
       "27                MexicanRestaurants   \n",
       "28                ChineseRestaurants   \n",
       "29                   ThaiRestaurants   \n",
       "...                              ...   \n",
       "1845  AmericanTraditionalRestaurants   \n",
       "1846      BurgersFastFoodRestaurants   \n",
       "1847              ChineseRestaurants   \n",
       "1848              ChineseRestaurants   \n",
       "1849          AmericanNewRestaurants   \n",
       "1850              MexicanRestaurants   \n",
       "1851                 ThaiRestaurants   \n",
       "1852              ChineseRestaurants   \n",
       "1853    SushiBarsJapaneseRestaurants   \n",
       "1854                PizzaRestaurants   \n",
       "1855                PizzaRestaurants   \n",
       "1856    SushiBarsJapaneseRestaurants   \n",
       "1857              MexicanRestaurants   \n",
       "1858              RestaurantsItalian   \n",
       "1859              RestaurantsItalian   \n",
       "1860              MexicanRestaurants   \n",
       "1861              ChineseRestaurants   \n",
       "1862              ChineseRestaurants   \n",
       "1863              MexicanRestaurants   \n",
       "1864                 ThaiRestaurants   \n",
       "1865                PizzaRestaurants   \n",
       "1866              MexicanRestaurants   \n",
       "1867                PizzaRestaurants   \n",
       "1868      FastFoodMexicanRestaurants   \n",
       "1869                PizzaRestaurants   \n",
       "1870              MexicanRestaurants   \n",
       "1871              RestaurantsItalian   \n",
       "1872              MexicanRestaurants   \n",
       "1873              MexicanRestaurants   \n",
       "1874  AmericanTraditionalRestaurants   \n",
       "\n",
       "                                                   text  \n",
       "0     I hadn't had Pizza Hut in years!  My dad just ...  \n",
       "1     This place has excellent pan fried Sea Bass.  ...  \n",
       "2     This Subway and the company really suck.  Don'...  \n",
       "3     love the schmears. love the new breakfast bage...  \n",
       "4     I order takeout from this particular China Joe...  \n",
       "5     We all have those special places we like to de...  \n",
       "6     This place occupies an old FARM BASKET so it l...  \n",
       "7     I tried to eat here today, but they appeared u...  \n",
       "8     this place is located in the corner of a strip...  \n",
       "9     this is the only stand-alone hot dog place in ...  \n",
       "10    Everytime I eat at pizza hut/wingstreet I'm al...  \n",
       "11    My favorite sub shop...the original starting o...  \n",
       "12    If I'm correct, this is the open restaurant in...  \n",
       "13    I understand a burger joint probably is likely...  \n",
       "14    This is my favorite taco joint in Vegas...if y...  \n",
       "15    this is by far one of my most favorite restaur...  \n",
       "16    This sucks. I am still sitting inside Villa Pi...  \n",
       "17    This Wendy's is REALLY SLOW at getting food ou...  \n",
       "18    Some of you may remember Sushi House Manda fro...  \n",
       "19    They say that you shouldn't judge a book by it...  \n",
       "20    My name is Cher and I'm addicted to the Jalape...  \n",
       "21    If you're looking for a cheap, filling lunch, ...  \n",
       "22    Horrible unfriendly service but great food!  T...  \n",
       "23    This buffet has ok tasting food until one frig...  \n",
       "24    This chicken chain is awesome.\\nThe quality an...  \n",
       "25    You get what you pay for... $5 made pizzas are...  \n",
       "26    This Roberto's is a very clean location, but i...  \n",
       "27    I found a 2/1 coupon in the print edition of t...  \n",
       "28    I have been going to this place since the earl...  \n",
       "29    My Bestie's fam used to own Royal Thai.....\\nj...  \n",
       "...                                                 ...  \n",
       "1845  Waitresses are horrible, extremely slow and ev...  \n",
       "1846  Fast food is sometimes Meh... But it is what i...  \n",
       "1847  We ordered an order of Potstickers, Beef Pocke...  \n",
       "1848  Have been here several times since I know it. ...  \n",
       "1849  I was so surprised when I saw that the old loc...  \n",
       "1850  Coming in before the rude reviews\\nI love it h...  \n",
       "1851  Found this little gem after going to Dick Blic...  \n",
       "1852  This place serves unbelievable Hainin chicken ...  \n",
       "1853  If it weren't for the service, we would give t...  \n",
       "1854  Best pizza in this area. Workers are friendly ...  \n",
       "1855  Great pizza !!!!!\\nWhat's great is they sell p...  \n",
       "1856  The Japanese chef, Hiro, opened his own restau...  \n",
       "1857  Worst  service ever will never come back i ord...  \n",
       "1858  So good. So good. So good. Best Italian I've h...  \n",
       "1859  Just opened today and the food is fresh and au...  \n",
       "1860  Beautifully themed restaurant but the prices a...  \n",
       "1861  The seafood is always delicious ! Love this ne...  \n",
       "1862  I still miss the old China Tango before the ma...  \n",
       "1863  Always a fan of their breakfast burritos. Grea...  \n",
       "1864  This is our first time here.. The service is g...  \n",
       "1865  This is great tasting pizza. I'm from the east...  \n",
       "1866  How to sum up this place with one word \"Delici...  \n",
       "1867  Papa Pinny's has the best pizza I have tasted ...  \n",
       "1868  Horrible.... Won't do this again until they ar...  \n",
       "1869  Absolutely love having a Rosati's so close by....  \n",
       "1870  OK so I just had a meal..  everything was grea...  \n",
       "1871  Chef Marc Sgrizzi has once again outdone himse...  \n",
       "1872  This is the brand new Cafe Rio right of 215 be...  \n",
       "1873  This place us absolutely amazing.. The tamales...  \n",
       "1874  Great new dining spot located right next to XS...  \n",
       "\n",
       "[1875 rows x 5 columns]"
      ]
     },
     "execution_count": 25,
     "metadata": {},
     "output_type": "execute_result"
    }
   ],
   "source": [
    "merge_result = pd.merge(top_business_df, review_df, on='business_id')\n",
    "merge_result"
   ]
  },
  {
   "cell_type": "markdown",
   "metadata": {},
   "source": [
    "#### 3. Generate the review text vector using TfidfVectorizer"
   ]
  },
  {
   "cell_type": "code",
   "execution_count": 28,
   "metadata": {},
   "outputs": [],
   "source": [
    "# Remove all special characters and numbers\n",
    "review_text_list = merge_result['text'].str.replace('[^a-zA-Z]+',' ').tolist()"
   ]
  },
  {
   "cell_type": "code",
   "execution_count": 29,
   "metadata": {},
   "outputs": [],
   "source": [
    "# Remove stop words for TfidfVectorizer\n",
    "from sklearn.feature_extraction import text\n",
    "my_stop_words = text.ENGLISH_STOP_WORDS"
   ]
  },
  {
   "cell_type": "code",
   "execution_count": 30,
   "metadata": {},
   "outputs": [
    {
     "name": "stdout",
     "output_type": "stream",
     "text": [
      "The shape of review text vector: (1875, 24224)\n",
      "[[0.         0.         0.         ... 0.         0.         0.        ]\n",
      " [0.         0.         0.         ... 0.         0.         0.        ]\n",
      " [0.         0.         0.         ... 0.         0.         0.        ]\n",
      " ...\n",
      " [0.         0.         0.         ... 0.         0.         0.        ]\n",
      " [0.         0.         0.         ... 0.         0.         0.        ]\n",
      " [0.11071251 0.         0.         ... 0.         0.         0.        ]]\n"
     ]
    }
   ],
   "source": [
    "from sklearn.feature_extraction.text import TfidfVectorizer\n",
    "vectorizer = TfidfVectorizer(stop_words=my_stop_words, min_df=4, max_df=0.8)\n",
    "vectorizer.fit(review_text_list)\n",
    "vocabulary = sorted(vectorizer.vocabulary_.items(), key=lambda kv: kv[1])\n",
    "review_vec = vectorizer.transform(merge_result.text).toarray()\n",
    "print(f'The shape of review text vector: {review_vec.shape}')\n",
    "print(review_vec)"
   ]
  },
  {
   "cell_type": "markdown",
   "metadata": {},
   "source": [
    "#### 4. Use TruncatedSVD to reduce the dimension of the review text vector to 15"
   ]
  },
  {
   "cell_type": "code",
   "execution_count": 41,
   "metadata": {},
   "outputs": [
    {
     "name": "stdout",
     "output_type": "stream",
     "text": [
      "The shape of review text vector after svd: (1875, 15)\n"
     ]
    }
   ],
   "source": [
    "from sklearn.decomposition import TruncatedSVD\n",
    "svd = TruncatedSVD(n_components=15, n_iter=7, random_state=42)\n",
    "review_vec_new = svd.fit_transform(review_vec)\n",
    "print(f'The shape of review text vector after svd: {review_vec_new.shape}')"
   ]
  },
  {
   "cell_type": "markdown",
   "metadata": {},
   "source": [
    "#### 5. Concatenate all feature vectors "
   ]
  },
  {
   "cell_type": "code",
   "execution_count": 42,
   "metadata": {},
   "outputs": [
    {
     "name": "stdout",
     "output_type": "stream",
     "text": [
      "The location feature vector shape: (1875, 2)\n"
     ]
    }
   ],
   "source": [
    "# Preprocess the latitude and longitude as problem1\n",
    "latitude_vec = merge_result.latitude.values.reshape(-1, 1)\n",
    "longitude_vec = merge_result.longitude.values.reshape(-1, 1)\n",
    "X_location = np.concatenate((latitude_vec, longitude_vec), axis=1)\n",
    "print(f'The location feature vector shape: {X_location.shape}')\n",
    "from sklearn import preprocessing\n",
    "\n",
    "minmax_scale = preprocessing.MinMaxScaler().fit(X_location)\n",
    "X_minmax = minmax_scale.transform(X_location)"
   ]
  },
  {
   "cell_type": "code",
   "execution_count": 43,
   "metadata": {},
   "outputs": [
    {
     "name": "stdout",
     "output_type": "stream",
     "text": [
      "The complete feature vector shape: (1875, 17)\n"
     ]
    }
   ],
   "source": [
    "# Concatenate all feature vectors\n",
    "X_review = np.concatenate((review_vec_new, X_minmax), axis=1)\n",
    "print(f'The complete feature vector shape: {X_review.shape}')"
   ]
  },
  {
   "cell_type": "markdown",
   "metadata": {},
   "source": [
    "#### 6. Evalute the clusters"
   ]
  },
  {
   "cell_type": "code",
   "execution_count": 44,
   "metadata": {},
   "outputs": [
    {
     "data": {
      "image/png": "[encoded data removed]",
      "text/plain": [
       "<Figure size 432x288 with 1 Axes>"
      ]
     },
     "metadata": {},
     "output_type": "display_data"
    }
   ],
   "source": [
    "evaluate_clusters(X_review, 30)     "
   ]
  },
  {
   "cell_type": "code",
   "execution_count": 45,
   "metadata": {},
   "outputs": [
    {
     "data": {
      "image/png": "[encoded data removed]",
      "text/plain": [
       "<Figure size 432x288 with 1 Axes>"
      ]
     },
     "metadata": {},
     "output_type": "display_data"
    }
   ],
   "source": [
    "sc_evaluate_clusters(X_review,30)"
   ]
  },
  {
   "cell_type": "markdown",
   "metadata": {},
   "source": [
    "From above two graphs, I decided to use K = 12"
   ]
  },
  {
   "cell_type": "code",
   "execution_count": 111,
   "metadata": {},
   "outputs": [
    {
     "data": {
      "text/plain": [
       "array([ 2,  8, 11, ...,  1,  4,  1], dtype=int32)"
      ]
     },
     "execution_count": 111,
     "metadata": {},
     "output_type": "execute_result"
    }
   ],
   "source": [
    "kmeans = KMeans(n_clusters=12,init='k-means++', n_init=10, random_state=0).fit(X_review)\n",
    "y_problem2 = kmeans.predict(X_review)\n",
    "y_problem2"
   ]
  },
  {
   "cell_type": "markdown",
   "metadata": {},
   "source": [
    "#### 7. Compare results from Problem 1 and Problem 2"
   ]
  },
  {
   "cell_type": "code",
   "execution_count": 141,
   "metadata": {},
   "outputs": [
    {
     "name": "stdout",
     "output_type": "stream",
     "text": [
      "Adjusted Rand index score: 0.09016553555836568\n"
     ]
    }
   ],
   "source": [
    "ri = metrics.adjusted_rand_score(y_problem1, y_problem2)\n",
    "print(f'Adjusted Rand index score: {ri}')"
   ]
  },
  {
   "cell_type": "markdown",
   "metadata": {},
   "source": [
    "From the adjusted rand score of problem1 and problem2, the value is very low. That means two clusters' results are very different. "
   ]
  }
 ],
 "metadata": {
  "anaconda-cloud": {},
  "kernelspec": {
   "display_name": "Python 3",
   "language": "python",
   "name": "python3"
  },
  "language_info": {
   "codemirror_mode": {
    "name": "ipython",
    "version": 3
   },
   "file_extension": ".py",
   "mimetype": "text/x-python",
   "name": "python",
   "nbconvert_exporter": "python",
   "pygments_lexer": "ipython3",
   "version": "3.6.5"
  }
 },
 "nbformat": 4,
 "nbformat_minor": 1
}
